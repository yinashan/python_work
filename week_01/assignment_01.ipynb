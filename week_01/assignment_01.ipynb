{
 "cells": [
  {
   "cell_type": "markdown",
   "metadata": {},
   "source": [
    "### Assignment 1: Create your own calculator!"
   ]
  },
  {
   "cell_type": "markdown",
   "metadata": {},
   "source": [
    "Before we actually code in Python, please write out how you might build this with code in plain English (pseudocoding!). Pseudocode is an important part of programming and is used in planning an algorithm with sketching out the structure of the program before the actual coding takes place."
   ]
  },
  {
   "cell_type": "code",
   "execution_count": null,
   "metadata": {},
   "outputs": [],
   "source": [
    "# example psuedocode:\n",
    "# 1. A calculator will take in numbers that we want to use the operators on. So we want store user input\n",
    "# in variables. The first variable will store the first number, the second one will store the second number, \n",
    "# and the third will store the mathematical operator the user wants to perform on these numbers."
   ]
  },
  {
   "cell_type": "code",
   "execution_count": null,
   "metadata": {},
   "outputs": [],
   "source": [
    "# How a calculator would be built\n",
    "\n",
    "# A calculater has 4 basic preset ways of doing maths: addition, subtraction, multiplication and division.\n",
    "# The user needs at least 2 numbers to input into the calculator\n",
    "# It's ok to have more than 2 numbers, but the calculator will work with 2 numbers at a time\n",
    "# The user also needs to choose which mathematical operator to perform on the input numbers"
   ]
  },
  {
   "cell_type": "markdown",
   "metadata": {},
   "source": [
    "__Using conditionals, operators, and functions, try creating a working calculator! We will go over the solution next week.__\n",
    "\n",
    "_Things to consider:_\n",
    "\n",
    "<li>You may want to ask for user input: use the Python input() method. If you're asking for numbers, you may need to change the input value from a string to a number. Consider using int(x) and float(x) to do so.</li>\n",
    "<li>Use the operators with the conditionals we learned in class! Ex) if user_input == '*': print(x * y) </li>\n",
    "<li>Use if...elif conditionals!</li>\n",
    "<li>Before you put your code into a function for reusability purposes, hard code first to make sure your logic is working</li>\n",
    "<li>Keep it simple and use the four operators we went over in class: +, -, *, /</li>"
   ]
  },
  {
   "cell_type": "code",
   "execution_count": null,
   "metadata": {},
   "outputs": [],
   "source": [
    "# code down here:\n"
   ]
  },
  {
   "cell_type": "code",
   "execution_count": null,
   "metadata": {},
   "outputs": [],
   "source": [
    "# single operation\n",
    "\n",
    "x=5\n",
    "y=3\n",
    "operator=\"/\"\n",
    "\n",
    "if operator == \"*\":\n",
    "    print (x*y)\n",
    "else:\n",
    "    print (\"try again\")"
   ]
  },
  {
   "cell_type": "code",
   "execution_count": null,
   "metadata": {},
   "outputs": [],
   "source": [
    "# one elif\n",
    "\n",
    "x=6\n",
    "y=3\n",
    "operator=\"/\"\n",
    "\n",
    "if operator == \"*\":\n",
    "    print (x*y)\n",
    "elif operator == \"/\":\n",
    "    print (x/y)\n",
    "else:\n",
    "    print (\"try again\")"
   ]
  },
  {
   "cell_type": "code",
   "execution_count": null,
   "metadata": {},
   "outputs": [],
   "source": [
    "# more elifs\n",
    "\n",
    "x=5\n",
    "y=3\n",
    "operator =\"+\"\n",
    "\n",
    "if operator == \"*\":\n",
    "    print (x*y)\n",
    "elif operator == \"/\":\n",
    "    print (x/y)\n",
    "elif operator == \"-\":\n",
    "    print (x-y)\n",
    "elif operator == \"+\":\n",
    "    print (x+y)\n",
    "else:\n",
    "    print (\"try again\")"
   ]
  },
  {
   "cell_type": "code",
   "execution_count": null,
   "metadata": {},
   "outputs": [],
   "source": [
    "#adding user input\n",
    "\n",
    "x = int(input(\"enter the first number \"))\n",
    "y = int(input(\"enter the second number \"))\n",
    "operator = input(\"enter the operator \")\n",
    "if operator == \"*\":\n",
    "    print (x*y)\n",
    "elif operator == \"+\":\n",
    "    print (x+y)\n",
    "elif operator == \"-\":\n",
    "    print (x-y)\n",
    "elif operator == \"/\":\n",
    "    print (x/y)\n",
    "else:\n",
    "    print (\"try again\")"
   ]
  },
  {
   "cell_type": "code",
   "execution_count": null,
   "metadata": {},
   "outputs": [],
   "source": [
    "# reusable function\n",
    "\n",
    "def calculate ():\n",
    "    x = int(input(\"enter the first number \"))\n",
    "    y = int(input(\"enter the second number \"))\n",
    "    operator = input(\"enter the operator \")\n",
    "    if operator == \"*\":\n",
    "        print (x*y)\n",
    "    elif operator == \"+\":\n",
    "        print (x+y)\n",
    "    elif operator == \"-\":\n",
    "        print (x-y)\n",
    "    elif operator == \"/\":\n",
    "        print (x/y)\n",
    "    else:\n",
    "        print (\"try again\")\n",
    "        \n",
    "    calculate()"
   ]
  },
  {
   "cell_type": "code",
   "execution_count": null,
   "metadata": {},
   "outputs": [],
   "source": [
    "calculate()"
   ]
  },
  {
   "cell_type": "code",
   "execution_count": 2,
   "metadata": {},
   "outputs": [],
   "source": [
    "# clearer presentation for user, more instructions and explanations\n",
    "\n",
    "def calc ():\n",
    "    x = int(input(\"enter the first number \"))\n",
    "    \n",
    "    operator = input(\"\"\"\n",
    "enter the operator \n",
    "+ to add\n",
    "- to subtract\n",
    "* to multiply by\n",
    "/ to divide by\n",
    "\"\"\")\n",
    "    \n",
    "    y = int(input(\"enter the second number \"))\n",
    "\n",
    "    \n",
    "    if operator == \"*\":\n",
    "        print (x, '*', y, '=')\n",
    "        print (x*y)\n",
    "    elif operator == \"+\":\n",
    "        print (x, '+', y, '=')\n",
    "        print (x+y)\n",
    "    elif operator == \"-\":\n",
    "        print (x, '-', y, '=')\n",
    "        print (x-y)\n",
    "    elif operator == \"/\":\n",
    "        print (x, '/', y, '=')\n",
    "        print (x/y)\n",
    "    else:\n",
    "        print (\"try again\")\n",
    "        \n",
    "    calc()"
   ]
  },
  {
   "cell_type": "code",
   "execution_count": null,
   "metadata": {},
   "outputs": [
    {
     "name": "stdout",
     "output_type": "stream",
     "text": [
      "enter the first number 545\n",
      "\n",
      "enter the operator \n",
      "+ to add\n",
      "- to subtract\n",
      "* to multiply by\n",
      "/ to divide by\n",
      "-\n",
      "enter the second number 544\n",
      "545 - 544 =\n",
      "1\n"
     ]
    }
   ],
   "source": [
    "calc ()"
   ]
  },
  {
   "cell_type": "code",
   "execution_count": null,
   "metadata": {},
   "outputs": [],
   "source": []
  }
 ],
 "metadata": {
  "kernelspec": {
   "display_name": "Python 3",
   "language": "python",
   "name": "python3"
  },
  "language_info": {
   "codemirror_mode": {
    "name": "ipython",
    "version": 3
   },
   "file_extension": ".py",
   "mimetype": "text/x-python",
   "name": "python",
   "nbconvert_exporter": "python",
   "pygments_lexer": "ipython3",
   "version": "3.8.3"
  }
 },
 "nbformat": 4,
 "nbformat_minor": 4
}
