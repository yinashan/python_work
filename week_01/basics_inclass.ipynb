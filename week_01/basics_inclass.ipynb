{
 "cells": [
  {
   "cell_type": "markdown",
   "metadata": {},
   "source": [
    "### Week 1\n",
    "\n",
    "This week we will cover Python basics. Some of the concepts we will go over are:\n",
    "<ul>\n",
    "    <li>intro to data types</li>\n",
    "    <li>variables</li>\n",
    "    <li>accessing elements</li>\n",
    "    <li>for loops</li>\n",
    "    <li>conditionals</li>\n",
    "    <li>functions</li>\n",
    "</ul>"
   ]
  },
  {
   "cell_type": "markdown",
   "metadata": {},
   "source": [
    "### __Hello World!__\n",
    "strings, numbers, lists, dictionaries"
   ]
  },
  {
   "cell_type": "code",
   "execution_count": 5,
   "metadata": {},
   "outputs": [
    {
     "name": "stdout",
     "output_type": "stream",
     "text": [
      "My neck hurts\n"
     ]
    }
   ],
   "source": [
    "# easiest way to see an output immediately\n",
    "print('My neck hurts')"
   ]
  },
  {
   "cell_type": "code",
   "execution_count": 6,
   "metadata": {},
   "outputs": [
    {
     "name": "stdout",
     "output_type": "stream",
     "text": [
      "I slept wrong\n",
      "<class 'str'>\n"
     ]
    }
   ],
   "source": [
    "# strings\n",
    "print(\"I slept wrong\")\n",
    "print(type(\"Hello!\"))"
   ]
  },
  {
   "cell_type": "code",
   "execution_count": 3,
   "metadata": {},
   "outputs": [
    {
     "name": "stdout",
     "output_type": "stream",
     "text": [
      "Bye!\n",
      "<class 'str'>\n"
     ]
    }
   ],
   "source": [
    "print('Bye!')\n",
    "print(type('Bye!'))"
   ]
  },
  {
   "cell_type": "code",
   "execution_count": 8,
   "metadata": {},
   "outputs": [
    {
     "name": "stdout",
     "output_type": "stream",
     "text": [
      "and he said, 'maybe we should grab something to eat!'\n"
     ]
    }
   ],
   "source": [
    "print(\"and he said, 'maybe we should grab something to eat!'\")"
   ]
  },
  {
   "cell_type": "code",
   "execution_count": 5,
   "metadata": {},
   "outputs": [
    {
     "name": "stdout",
     "output_type": "stream",
     "text": [
      "and he said, \"maybe we should grab something to eat!\"\n"
     ]
    }
   ],
   "source": [
    "print('and he said, \"maybe we should grab something to eat!\"')"
   ]
  },
  {
   "cell_type": "code",
   "execution_count": 3,
   "metadata": {},
   "outputs": [
    {
     "name": "stdout",
     "output_type": "stream",
     "text": [
      "<class 'str'>\n",
      "\n",
      "Hi everyone!\n",
      "\n",
      "Welcome to Quauntum Computing!\n",
      "\n"
     ]
    }
   ],
   "source": [
    "# block strings\n",
    "print(type('''\n",
    "Hi everyone!\n",
    "\n",
    "new line\n",
    "Welcome to Quauntum Computing!\n",
    "'''))\n",
    "print(\"\"\"\n",
    "Hi everyone!\n",
    "\n",
    "Welcome to Quauntum Computing!\n",
    "\"\"\")"
   ]
  },
  {
   "cell_type": "code",
   "execution_count": 19,
   "metadata": {},
   "outputs": [
    {
     "name": "stdout",
     "output_type": "stream",
     "text": [
      "7\n",
      "7.123\n",
      "<class 'int'>\n",
      "<class 'float'>\n"
     ]
    }
   ],
   "source": [
    "# numbers\n",
    "print(7)\n",
    "print(7.123)\n",
    "print(type(7))\n",
    "print(type(7.5))"
   ]
  },
  {
   "cell_type": "code",
   "execution_count": 22,
   "metadata": {},
   "outputs": [
    {
     "name": "stdout",
     "output_type": "stream",
     "text": [
      "[1, 2, 3, 4]\n",
      "<class 'list'>\n"
     ]
    }
   ],
   "source": [
    "# lists \n",
    "print([1, 2, 3, 4])\n",
    "print(type([1,2,3]))"
   ]
  },
  {
   "cell_type": "code",
   "execution_count": 25,
   "metadata": {},
   "outputs": [
    {
     "name": "stdout",
     "output_type": "stream",
     "text": [
      "[1, 'tomato', 3, 'figs']\n",
      "<class 'list'>\n"
     ]
    }
   ],
   "source": [
    "# lists with mixed type\n",
    "print([1, 'tomato', 3, 'figs'])\n",
    "print(type([1, 'grilled cheese', 3, 'figs']))"
   ]
  },
  {
   "cell_type": "code",
   "execution_count": 10,
   "metadata": {},
   "outputs": [
    {
     "name": "stdout",
     "output_type": "stream",
     "text": [
      "['Sven', 'Valerie', 'Joseph', 'Anastasia']\n",
      "<class 'list'>\n"
     ]
    }
   ],
   "source": [
    "print(['Sven', 'Valerie', 'Joseph', 'Anastasia'])\n",
    "print(type(['Sven', 'Valerie', 'Joseph', 'Anastasia']))"
   ]
  },
  {
   "cell_type": "code",
   "execution_count": 11,
   "metadata": {},
   "outputs": [
    {
     "name": "stdout",
     "output_type": "stream",
     "text": [
      "{'name': 'Sven', 'role': 'Instructor'}\n",
      "<class 'dict'>\n"
     ]
    }
   ],
   "source": [
    "# dictionaries\n",
    "print({\"name\":\"Sven\", \"role\":\"Instructor\"})\n",
    "print(type({\"name\":\"Sven\", \"role\":\"Instructor\"}))"
   ]
  },
  {
   "cell_type": "code",
   "execution_count": 12,
   "metadata": {},
   "outputs": [
    {
     "name": "stdout",
     "output_type": "stream",
     "text": [
      "{1: 'apple', 2: ['pancakes', 'cereal'], 'number': 100}\n",
      "<class 'dict'>\n"
     ]
    }
   ],
   "source": [
    "# dictionaries with mixed type\n",
    "print({1:\"apple\", 2:['pancakes', 'cereal'], \"number\": 100})\n",
    "print(type({1:\"apple\", 2:['pancakes', 'cereal'], \"number\": 100}))"
   ]
  },
  {
   "cell_type": "markdown",
   "metadata": {},
   "source": [
    "### __Variable Declaration__"
   ]
  },
  {
   "cell_type": "code",
   "execution_count": 4,
   "metadata": {},
   "outputs": [
    {
     "name": "stdout",
     "output_type": "stream",
     "text": [
      "200\n",
      "<class 'int'>\n",
      "200\n"
     ]
    }
   ],
   "source": [
    "# python doesn't have a command for declaring variables\n",
    "greeting = 200\n",
    "print(greeting)\n",
    "print(type(greeting))\n",
    "print(200)"
   ]
  },
  {
   "cell_type": "code",
   "execution_count": 32,
   "metadata": {},
   "outputs": [
    {
     "name": "stdout",
     "output_type": "stream",
     "text": [
      "red\n",
      "<class 'str'>\n"
     ]
    }
   ],
   "source": [
    "greeting = \"red\"\n",
    "print(greeting)\n",
    "print(type(greeting))"
   ]
  },
  {
   "cell_type": "code",
   "execution_count": 10,
   "metadata": {},
   "outputs": [
    {
     "name": "stdout",
     "output_type": "stream",
     "text": [
      "('20', '30')\n"
     ]
    }
   ],
   "source": [
    "number = \"20\", \"30\"\n",
    "print(number)"
   ]
  },
  {
   "cell_type": "code",
   "execution_count": 21,
   "metadata": {},
   "outputs": [
    {
     "name": "stdout",
     "output_type": "stream",
     "text": [
      "('hello', 'bye', 1)\n"
     ]
    }
   ],
   "source": [
    "my_list = \"hello\", \"bye\", 1\n",
    "print(my_list)"
   ]
  },
  {
   "cell_type": "code",
   "execution_count": 17,
   "metadata": {},
   "outputs": [
    {
     "name": "stdout",
     "output_type": "stream",
     "text": [
      "{'name': 'Sven', 'role': 'Instructor'}\n"
     ]
    }
   ],
   "source": [
    "my_dict = {\"name\":\"Sven\", \"role\":\"Instructor\"}\n",
    "print(my_dict)"
   ]
  },
  {
   "cell_type": "markdown",
   "metadata": {},
   "source": [
    "### __Errors__"
   ]
  },
  {
   "cell_type": "code",
   "execution_count": 22,
   "metadata": {},
   "outputs": [
    {
     "name": "stdout",
     "output_type": "stream",
     "text": [
      "20\n"
     ]
    }
   ],
   "source": [
    "number = 20\n",
    "print(number)"
   ]
  },
  {
   "cell_type": "markdown",
   "metadata": {},
   "source": [
    "### __Accessing Elements__"
   ]
  },
  {
   "cell_type": "markdown",
   "metadata": {},
   "source": [
    "Strings"
   ]
  },
  {
   "cell_type": "code",
   "execution_count": 24,
   "metadata": {},
   "outputs": [
    {
     "name": "stdout",
     "output_type": "stream",
     "text": [
      "Goodbye, friends\n"
     ]
    }
   ],
   "source": [
    "# accessing elements in a string\n",
    "my_string = \"Goodbye, friends\"\n",
    "print(my_string)"
   ]
  },
  {
   "cell_type": "code",
   "execution_count": 25,
   "metadata": {},
   "outputs": [
    {
     "name": "stdout",
     "output_type": "stream",
     "text": [
      ",\n"
     ]
    }
   ],
   "source": [
    "print(my_string[7])"
   ]
  },
  {
   "cell_type": "code",
   "execution_count": 26,
   "metadata": {
    "scrolled": true
   },
   "outputs": [
    {
     "name": "stdout",
     "output_type": "stream",
     "text": [
      "d\n"
     ]
    }
   ],
   "source": [
    "print(my_string[-2])"
   ]
  },
  {
   "cell_type": "code",
   "execution_count": 27,
   "metadata": {},
   "outputs": [
    {
     "name": "stdout",
     "output_type": "stream",
     "text": [
      "o\n",
      "o\n",
      "od\n"
     ]
    }
   ],
   "source": [
    "print(my_string[2])\n",
    "print(my_string[2])\n",
    "print(my_string[2:4])"
   ]
  },
  {
   "cell_type": "code",
   "execution_count": 28,
   "metadata": {},
   "outputs": [
    {
     "name": "stdout",
     "output_type": "stream",
     "text": [
      "Goodbye, frien\n"
     ]
    }
   ],
   "source": [
    "print(my_string[:-2])"
   ]
  },
  {
   "cell_type": "markdown",
   "metadata": {},
   "source": [
    "Tuple"
   ]
  },
  {
   "cell_type": "code",
   "execution_count": 100,
   "metadata": {},
   "outputs": [
    {
     "name": "stdout",
     "output_type": "stream",
     "text": [
      "<class 'tuple'>\n",
      "<class 'tuple'>\n"
     ]
    }
   ],
   "source": [
    "# Tuples are used to store multiple items in a single variable.\n",
    "\n",
    "\n",
    "tuple1 = \"apple\", \"banana\"\n",
    "tuple2 = (\"cherry\",\"dragonfruit\")\n",
    "\n",
    "print(type(tuple1))\n",
    "print(type(tuple2))"
   ]
  },
  {
   "cell_type": "markdown",
   "metadata": {},
   "source": [
    "Lists"
   ]
  },
  {
   "cell_type": "code",
   "execution_count": 34,
   "metadata": {},
   "outputs": [
    {
     "name": "stdout",
     "output_type": "stream",
     "text": [
      "['apple', 'orange', 100, 13]\n"
     ]
    }
   ],
   "source": [
    "# accessing elements in a list\n",
    "my_list = ['apple', 'orange', 100, 13]\n",
    "print(my_list)"
   ]
  },
  {
   "cell_type": "code",
   "execution_count": 44,
   "metadata": {},
   "outputs": [
    {
     "name": "stdout",
     "output_type": "stream",
     "text": [
      "apple\n",
      "l\n"
     ]
    }
   ],
   "source": [
    "# accessing a list element\n",
    "print(my_list[0])\n",
    "\n",
    "# accessing a string element within a list\n",
    "print(my_list[0][3])"
   ]
  },
  {
   "cell_type": "code",
   "execution_count": 36,
   "metadata": {},
   "outputs": [
    {
     "name": "stdout",
     "output_type": "stream",
     "text": [
      "13\n"
     ]
    }
   ],
   "source": [
    "print(my_list[3])"
   ]
  },
  {
   "cell_type": "code",
   "execution_count": 37,
   "metadata": {},
   "outputs": [
    {
     "name": "stdout",
     "output_type": "stream",
     "text": [
      "13\n"
     ]
    }
   ],
   "source": [
    "print(my_list[-1])"
   ]
  },
  {
   "cell_type": "code",
   "execution_count": 38,
   "metadata": {},
   "outputs": [
    {
     "name": "stdout",
     "output_type": "stream",
     "text": [
      "['apple', 'orange']\n"
     ]
    }
   ],
   "source": [
    "print(my_list[:-2])"
   ]
  },
  {
   "cell_type": "code",
   "execution_count": 39,
   "metadata": {},
   "outputs": [
    {
     "name": "stdout",
     "output_type": "stream",
     "text": [
      "[100, 13]\n"
     ]
    }
   ],
   "source": [
    "print(my_list[2:])"
   ]
  },
  {
   "cell_type": "markdown",
   "metadata": {},
   "source": [
    "Dictionaries"
   ]
  },
  {
   "cell_type": "code",
   "execution_count": 40,
   "metadata": {},
   "outputs": [
    {
     "name": "stdout",
     "output_type": "stream",
     "text": [
      "{'name': ['Nancy', 'Sven'], 'chicken': 'Popeyes', 1: [2, 3, 4]}\n"
     ]
    }
   ],
   "source": [
    "# accessing elements in a dictionary\n",
    "my_dict = {'name': ['Nancy','Sven'], 'chicken': 'Popeyes', 1: [2, 3, 4]}\n",
    "print(my_dict)"
   ]
  },
  {
   "cell_type": "code",
   "execution_count": 41,
   "metadata": {},
   "outputs": [
    {
     "name": "stdout",
     "output_type": "stream",
     "text": [
      "Popeyes\n"
     ]
    }
   ],
   "source": [
    "print(my_dict['chicken'])"
   ]
  },
  {
   "cell_type": "code",
   "execution_count": 42,
   "metadata": {},
   "outputs": [
    {
     "name": "stdout",
     "output_type": "stream",
     "text": [
      "['Nancy', 'Sven']\n"
     ]
    }
   ],
   "source": [
    "print(my_dict['name'])\n"
   ]
  },
  {
   "cell_type": "code",
   "execution_count": 74,
   "metadata": {},
   "outputs": [
    {
     "name": "stdout",
     "output_type": "stream",
     "text": [
      "Nancy\n"
     ]
    }
   ],
   "source": [
    "print(my_dict['name'][0])"
   ]
  },
  {
   "cell_type": "code",
   "execution_count": 75,
   "metadata": {},
   "outputs": [
    {
     "name": "stdout",
     "output_type": "stream",
     "text": [
      "dict_keys(['name', 'chicken', 1])\n"
     ]
    }
   ],
   "source": [
    "# accessing just the keys\n",
    "print(my_dict.keys())"
   ]
  },
  {
   "cell_type": "code",
   "execution_count": 76,
   "metadata": {},
   "outputs": [
    {
     "name": "stdout",
     "output_type": "stream",
     "text": [
      "dict_values([['Nancy', 'Sven'], 'Popeyes', [2, 3, 4]])\n"
     ]
    }
   ],
   "source": [
    "print(my_dict.values())"
   ]
  },
  {
   "cell_type": "code",
   "execution_count": 77,
   "metadata": {},
   "outputs": [
    {
     "name": "stdout",
     "output_type": "stream",
     "text": [
      "dict_items([('name', ['Nancy', 'Sven']), ('chicken', 'Popeyes'), (1, [2, 3, 4])])\n"
     ]
    }
   ],
   "source": [
    "print(my_dict.items())"
   ]
  },
  {
   "cell_type": "markdown",
   "metadata": {},
   "source": [
    "## __String Interpolation__"
   ]
  },
  {
   "cell_type": "markdown",
   "metadata": {},
   "source": [
    "sdfjkdsjflskjflj"
   ]
  },
  {
   "cell_type": "code",
   "execution_count": 52,
   "metadata": {},
   "outputs": [
    {
     "name": "stdout",
     "output_type": "stream",
     "text": [
      "Hello, there are 15 of us in class!\n",
      "Hello, there are {number} of us in class!\n"
     ]
    }
   ],
   "source": [
    "# sfjdksfjdkj\n",
    "# hi!!\n",
    "number = 15\n",
    "print(f'Hello, there are {number} of us in class!')\n",
    "\n",
    "# f-string allows the variable inside the string be replaced with its value\n",
    "\n",
    "print('Hello, there are {number} of us in class!')"
   ]
  },
  {
   "cell_type": "code",
   "execution_count": 53,
   "metadata": {},
   "outputs": [
    {
     "name": "stdout",
     "output_type": "stream",
     "text": [
      "Hello, there are of 15 us in class!\n"
     ]
    }
   ],
   "source": [
    "print(f'Hello, there are of {number} us in class!')"
   ]
  },
  {
   "cell_type": "code",
   "execution_count": 54,
   "metadata": {},
   "outputs": [
    {
     "name": "stdout",
     "output_type": "stream",
     "text": [
      "Hello, there are 15 of us in class!\n"
     ]
    }
   ],
   "source": [
    "print(\"Hello, there are %d of us in class!\" %(number))"
   ]
  },
  {
   "cell_type": "code",
   "execution_count": 57,
   "metadata": {},
   "outputs": [
    {
     "name": "stdout",
     "output_type": "stream",
     "text": [
      "Hi, there are 15 of us students in class tonight\n"
     ]
    }
   ],
   "source": [
    "# older, kinda outdated way\n",
    "\n",
    "sdf = 'students'\n",
    "sfe = 'tonight'\n",
    "print(\"Hi, there are %d of us %s in class %s\" %(number, sdf, sfe))"
   ]
  },
  {
   "cell_type": "code",
   "execution_count": 58,
   "metadata": {},
   "outputs": [
    {
     "name": "stdout",
     "output_type": "stream",
     "text": [
      "Hello, there are 15 of us in class!\n"
     ]
    }
   ],
   "source": [
    "#current common way of string interpolation\n",
    "\n",
    "print(\"Hello, there are {} of us in class!\".format(number))"
   ]
  },
  {
   "cell_type": "code",
   "execution_count": 59,
   "metadata": {},
   "outputs": [
    {
     "name": "stdout",
     "output_type": "stream",
     "text": [
      "Hello, there are 15 of us in class!\n"
     ]
    }
   ],
   "source": [
    "print(\"Hello, there are {} of us in class!\".format(number))"
   ]
  },
  {
   "cell_type": "markdown",
   "metadata": {},
   "source": [
    "### __Operators__"
   ]
  },
  {
   "cell_type": "code",
   "execution_count": 60,
   "metadata": {},
   "outputs": [
    {
     "name": "stdout",
     "output_type": "stream",
     "text": [
      "12\n"
     ]
    }
   ],
   "source": [
    "# add\n",
    "print(5 + 7)"
   ]
  },
  {
   "cell_type": "code",
   "execution_count": 61,
   "metadata": {},
   "outputs": [
    {
     "name": "stdout",
     "output_type": "stream",
     "text": [
      "4\n"
     ]
    }
   ],
   "source": [
    "# subtract\n",
    "print(12 - 8)"
   ]
  },
  {
   "cell_type": "code",
   "execution_count": 62,
   "metadata": {},
   "outputs": [
    {
     "name": "stdout",
     "output_type": "stream",
     "text": [
      "738979\n"
     ]
    }
   ],
   "source": [
    "# multiply\n",
    "print(10123 * 73)"
   ]
  },
  {
   "cell_type": "code",
   "execution_count": 63,
   "metadata": {},
   "outputs": [
    {
     "name": "stdout",
     "output_type": "stream",
     "text": [
      "2939.4285714285716\n"
     ]
    }
   ],
   "source": [
    "# divide\n",
    "print(123456 / 42)"
   ]
  },
  {
   "cell_type": "code",
   "execution_count": 64,
   "metadata": {},
   "outputs": [
    {
     "name": "stdout",
     "output_type": "stream",
     "text": [
      "1\n"
     ]
    }
   ],
   "source": [
    "# modulo / modulus\n",
    "print(100 % 3)"
   ]
  },
  {
   "cell_type": "code",
   "execution_count": 65,
   "metadata": {},
   "outputs": [
    {
     "name": "stdout",
     "output_type": "stream",
     "text": [
      "10\n"
     ]
    }
   ],
   "source": [
    "# add to self\n",
    "x = 2\n",
    "x += 8\n",
    "print(x)"
   ]
  },
  {
   "cell_type": "code",
   "execution_count": 66,
   "metadata": {},
   "outputs": [
    {
     "name": "stdout",
     "output_type": "stream",
     "text": [
      "1\n"
     ]
    }
   ],
   "source": [
    "# subtract from self\n",
    "x = 4\n",
    "x -= 3\n",
    "print(x)"
   ]
  },
  {
   "cell_type": "code",
   "execution_count": 67,
   "metadata": {},
   "outputs": [
    {
     "name": "stdout",
     "output_type": "stream",
     "text": [
      "15\n"
     ]
    }
   ],
   "source": [
    "# multiply from self\n",
    "x = 5\n",
    "x *= 3\n",
    "print(x)"
   ]
  },
  {
   "cell_type": "code",
   "execution_count": 69,
   "metadata": {},
   "outputs": [
    {
     "name": "stdout",
     "output_type": "stream",
     "text": [
      "7.0\n"
     ]
    }
   ],
   "source": [
    "# divide from self\n",
    "x = 21\n",
    "x /= 3\n",
    "print(x)"
   ]
  },
  {
   "cell_type": "markdown",
   "metadata": {},
   "source": [
    "### For Loops"
   ]
  },
  {
   "cell_type": "code",
   "execution_count": 101,
   "metadata": {},
   "outputs": [],
   "source": [
    "grocery_list = ['apples', 'salsa','chips','eggs']\n",
    "\n",
    "grocery_list = ['apples', \n",
    "                'salsa',\n",
    "                'chips',\n",
    "                'eggs']"
   ]
  },
  {
   "cell_type": "code",
   "execution_count": 102,
   "metadata": {},
   "outputs": [
    {
     "name": "stdout",
     "output_type": "stream",
     "text": [
      "apples\n",
      "salsa\n",
      "chips\n",
      "eggs\n"
     ]
    }
   ],
   "source": [
    "print(grocery_list[0])\n",
    "print(grocery_list[1])\n",
    "print(grocery_list[2])\n",
    "print(grocery_list[3])"
   ]
  },
  {
   "cell_type": "code",
   "execution_count": 103,
   "metadata": {},
   "outputs": [
    {
     "name": "stdout",
     "output_type": "stream",
     "text": [
      "apples\n",
      "salsa\n",
      "chips\n",
      "eggs\n",
      "eggs\n"
     ]
    }
   ],
   "source": [
    "for item in grocery_list:\n",
    "    print(item)\n",
    "\n",
    "print(item)"
   ]
  },
  {
   "cell_type": "code",
   "execution_count": 104,
   "metadata": {},
   "outputs": [
    {
     "name": "stdout",
     "output_type": "stream",
     "text": [
      "apples\n",
      "salsa\n",
      "chips\n",
      "eggs\n"
     ]
    }
   ],
   "source": [
    "for item in grocery_list:\n",
    "    print(item)"
   ]
  },
  {
   "cell_type": "code",
   "execution_count": 111,
   "metadata": {},
   "outputs": [
    {
     "name": "stdout",
     "output_type": "stream",
     "text": [
      "name\n",
      "age\n",
      "favorites\n"
     ]
    }
   ],
   "source": [
    "student_id ={'name': 'Sohee', 'age': 27, 'favorites': []}\n",
    "\n",
    "for x in student_id.keys():\n",
    "    print(x)"
   ]
  },
  {
   "cell_type": "code",
   "execution_count": 112,
   "metadata": {},
   "outputs": [
    {
     "name": "stdout",
     "output_type": "stream",
     "text": [
      "Sohee\n",
      "27\n",
      "[]\n"
     ]
    }
   ],
   "source": [
    "for value in student_id.values():\n",
    "    print(value)"
   ]
  },
  {
   "cell_type": "code",
   "execution_count": 113,
   "metadata": {},
   "outputs": [
    {
     "name": "stdout",
     "output_type": "stream",
     "text": [
      "('name', 'Sohee')\n",
      "('age', 27)\n",
      "('favorites', [])\n"
     ]
    }
   ],
   "source": [
    "for items in student_id.items():\n",
    "    print(items)"
   ]
  },
  {
   "cell_type": "markdown",
   "metadata": {},
   "source": [
    "### Booleans & Conditionals"
   ]
  },
  {
   "cell_type": "markdown",
   "metadata": {},
   "source": [
    "#### booleans"
   ]
  },
  {
   "cell_type": "code",
   "execution_count": 114,
   "metadata": {},
   "outputs": [
    {
     "name": "stdout",
     "output_type": "stream",
     "text": [
      "True\n"
     ]
    }
   ],
   "source": [
    "# == is for comparing values, = is for assigning values\n",
    "x = 5\n",
    "print (x == 5)"
   ]
  },
  {
   "cell_type": "code",
   "execution_count": 115,
   "metadata": {},
   "outputs": [
    {
     "name": "stdout",
     "output_type": "stream",
     "text": [
      "True\n"
     ]
    }
   ],
   "source": [
    "#! is used as negation\n",
    "x = 4\n",
    "print(x != 5) "
   ]
  },
  {
   "cell_type": "code",
   "execution_count": 116,
   "metadata": {},
   "outputs": [
    {
     "name": "stdout",
     "output_type": "stream",
     "text": [
      "True\n"
     ]
    }
   ],
   "source": [
    "x = 5\n",
    "print(x > 3 and x < 8)"
   ]
  },
  {
   "cell_type": "code",
   "execution_count": 120,
   "metadata": {},
   "outputs": [
    {
     "name": "stdout",
     "output_type": "stream",
     "text": [
      "False\n"
     ]
    }
   ],
   "source": [
    "x = 5\n",
    "print(x > 8 or x < 2)"
   ]
  },
  {
   "cell_type": "code",
   "execution_count": 121,
   "metadata": {},
   "outputs": [
    {
     "name": "stdout",
     "output_type": "stream",
     "text": [
      "True\n"
     ]
    }
   ],
   "source": [
    "x = 5\n",
    "print (x <= 6)"
   ]
  },
  {
   "cell_type": "markdown",
   "metadata": {},
   "source": [
    "#### if else statements"
   ]
  },
  {
   "cell_type": "code",
   "execution_count": 134,
   "metadata": {},
   "outputs": [
    {
     "name": "stdout",
     "output_type": "stream",
     "text": [
      "condition met\n"
     ]
    }
   ],
   "source": [
    "x = False\n",
    "# if x is false\n",
    "if x != True: \n",
    "    print(\"condition met\")\n",
    "# if x is not false    \n",
    "else:\n",
    "    print(\"condition not met\")"
   ]
  },
  {
   "cell_type": "code",
   "execution_count": 135,
   "metadata": {},
   "outputs": [
    {
     "name": "stdout",
     "output_type": "stream",
     "text": [
      "condition met\n"
     ]
    }
   ],
   "source": [
    "x = False\n",
    "# if x is not false\n",
    "if not x: \n",
    "    print(\"condition met\")\n",
    "# if x is false    \n",
    "else:\n",
    "    print(\"condition not met\")"
   ]
  },
  {
   "cell_type": "code",
   "execution_count": 136,
   "metadata": {},
   "outputs": [
    {
     "name": "stdout",
     "output_type": "stream",
     "text": [
      "not yina\n"
     ]
    }
   ],
   "source": [
    "name = 'yina'\n",
    "if name == 'josh':\n",
    "    print ('hi ' + name)\n",
    "else:\n",
    "    print ('not ' + name)"
   ]
  },
  {
   "cell_type": "code",
   "execution_count": 130,
   "metadata": {},
   "outputs": [
    {
     "name": "stdout",
     "output_type": "stream",
     "text": [
      "try again\n"
     ]
    }
   ],
   "source": [
    "# single operation\n",
    "x=5\n",
    "y=3\n",
    "operator=\"/\"\n",
    "\n",
    "if operator == \"*\":\n",
    "    print (x*y)\n",
    "else:\n",
    "    print (\"try again\")"
   ]
  },
  {
   "cell_type": "code",
   "execution_count": 143,
   "metadata": {},
   "outputs": [
    {
     "name": "stdout",
     "output_type": "stream",
     "text": [
      "2\n"
     ]
    }
   ],
   "source": [
    "# use elif statements to include all possible operations\n",
    "x=5\n",
    "y=3\n",
    "operator=\"-\"\n",
    "\n",
    "if operator == \"*\":\n",
    "    print (x*y)\n",
    "elif operator == \"+\":\n",
    "    print (x+y)\n",
    "elif operator == \"-\":\n",
    "    print (x-y)\n",
    "elif operator == \"/\":\n",
    "    print (x/y)\n",
    "else:\n",
    "    print (\"try again\")"
   ]
  },
  {
   "cell_type": "code",
   "execution_count": 145,
   "metadata": {},
   "outputs": [
    {
     "name": "stdout",
     "output_type": "stream",
     "text": [
      "enter first number7\n",
      "enter second number9\n",
      "enter the operator+\n",
      "79\n"
     ]
    }
   ],
   "source": [
    "# wrong input method\n",
    "\n",
    "x = input(\"enter first number\")\n",
    "y = input(\"enter second number\")\n",
    "operator = input(\"enter the operator\")\n",
    "\n",
    "if operator == \"*\":\n",
    "    print (x*y)\n",
    "elif operator == \"+\":\n",
    "    print (x+y)\n",
    "elif operator == \"-\":\n",
    "    print (x-y)\n",
    "elif operator == \"/\":\n",
    "    print (x/y)\n",
    "else:\n",
    "    print (\"try again\")"
   ]
  },
  {
   "cell_type": "code",
   "execution_count": 146,
   "metadata": {},
   "outputs": [
    {
     "name": "stdout",
     "output_type": "stream",
     "text": [
      "enter first number9\n",
      "enter second number7\n",
      "enter the operator-\n",
      "2\n"
     ]
    }
   ],
   "source": [
    "#adding user input\n",
    "\n",
    "x = int(input(\"enter first number\"))\n",
    "y = int(input(\"enter second number\"))\n",
    "operator = input(\"enter the operator\")\n",
    "if operator == \"*\":\n",
    "    print (x*y)\n",
    "elif operator == \"+\":\n",
    "    print (x+y)\n",
    "elif operator == \"-\":\n",
    "    print (x-y)\n",
    "elif operator == \"/\":\n",
    "    print (x/y)\n",
    "else:\n",
    "    print (\"try again\")"
   ]
  },
  {
   "cell_type": "code",
   "execution_count": 147,
   "metadata": {},
   "outputs": [
    {
     "name": "stdout",
     "output_type": "stream",
     "text": [
      "x is less than y\n"
     ]
    }
   ],
   "source": [
    "x = 10 \n",
    "y = 20\n",
    "\n",
    "if x < y:\n",
    "    print(\"x is less than y\")\n",
    "else: \n",
    "    print(\"x is greater than y \")"
   ]
  },
  {
   "cell_type": "code",
   "execution_count": 148,
   "metadata": {},
   "outputs": [
    {
     "name": "stdout",
     "output_type": "stream",
     "text": [
      "condition met\n",
      "condition met\n"
     ]
    }
   ],
   "source": [
    "if 1 < 2 and 4 > 2:\n",
    "    print(\"condition met\")\n",
    "\n",
    "if 4 < 10 or 1 > 2:\n",
    "    print(\"condition met\")"
   ]
  },
  {
   "cell_type": "markdown",
   "metadata": {},
   "source": [
    "#### multiple conditions!"
   ]
  },
  {
   "cell_type": "code",
   "execution_count": 151,
   "metadata": {},
   "outputs": [
    {
     "name": "stdout",
     "output_type": "stream",
     "text": [
      "x is smaller than 20.\n"
     ]
    }
   ],
   "source": [
    "# will evaluate first condition that equals to true\n",
    "x = 10\n",
    "\n",
    "if x < 20:\n",
    "    print(\"x is smaller than 20.\")\n",
    "elif x > 32:\n",
    "    print(\"x is bigger than 32.\")\n",
    "elif x == 10:\n",
    "    print(\"x is 10!\")\n",
    "else:\n",
    "    print(\"we don't know what x is\")"
   ]
  },
  {
   "cell_type": "markdown",
   "metadata": {},
   "source": [
    "#### nested if statements"
   ]
  },
  {
   "cell_type": "code",
   "execution_count": 152,
   "metadata": {},
   "outputs": [
    {
     "name": "stdout",
     "output_type": "stream",
     "text": [
      "X is above ten,\n",
      "and also above 20!\n"
     ]
    }
   ],
   "source": [
    "x = 41\n",
    "\n",
    "if x > 10:\n",
    "  print(\"X is above ten,\")\n",
    "  if x > 20:\n",
    "    print(\"and also above 20!\")\n",
    "  else:\n",
    "    print(\"but not above 20.\")"
   ]
  },
  {
   "cell_type": "markdown",
   "metadata": {},
   "source": [
    "### Functions"
   ]
  },
  {
   "cell_type": "code",
   "execution_count": 153,
   "metadata": {},
   "outputs": [],
   "source": [
    "def greeting():\n",
    "    print('Hello World!')"
   ]
  },
  {
   "cell_type": "code",
   "execution_count": 154,
   "metadata": {},
   "outputs": [],
   "source": [
    "def hello():\n",
    "    print(\"Hello World?\")"
   ]
  },
  {
   "cell_type": "code",
   "execution_count": 155,
   "metadata": {},
   "outputs": [
    {
     "name": "stdout",
     "output_type": "stream",
     "text": [
      "Hello World!\n",
      "Hello World!\n",
      "Hello World!\n",
      "Hello World!\n",
      "Hello World!\n",
      "Hello World?\n"
     ]
    }
   ],
   "source": [
    "greeting()\n",
    "greeting()\n",
    "greeting()\n",
    "greeting()\n",
    "greeting()\n",
    "hello()"
   ]
  },
  {
   "cell_type": "markdown",
   "metadata": {},
   "source": [
    "#### nested functions"
   ]
  },
  {
   "cell_type": "code",
   "execution_count": 156,
   "metadata": {},
   "outputs": [],
   "source": [
    "def greetings_again():\n",
    "    print('Hello World!!!')\n",
    "    hello()"
   ]
  },
  {
   "cell_type": "code",
   "execution_count": 157,
   "metadata": {},
   "outputs": [
    {
     "name": "stdout",
     "output_type": "stream",
     "text": [
      "Hello World!!!\n",
      "Hello World?\n"
     ]
    }
   ],
   "source": [
    "greetings_again()"
   ]
  },
  {
   "cell_type": "markdown",
   "metadata": {},
   "source": [
    "#### for loops & function"
   ]
  },
  {
   "cell_type": "code",
   "execution_count": 159,
   "metadata": {},
   "outputs": [
    {
     "name": "stdout",
     "output_type": "stream",
     "text": [
      "Hello World!\n",
      "Hello World!\n",
      "Hello World!\n",
      "Hello World!\n",
      "Hello World!\n",
      "Hello World!\n",
      "Hello World!\n",
      "Hello World!\n",
      "Hello World!\n",
      "Hello World!\n",
      "Hello World!\n",
      "Hello World!\n",
      "Hello World!\n",
      "Hello World!\n",
      "Hello World!\n"
     ]
    }
   ],
   "source": [
    "for x in range(15):\n",
    "    greeting()"
   ]
  },
  {
   "cell_type": "markdown",
   "metadata": {},
   "source": [
    "#### conditionals & functions"
   ]
  },
  {
   "cell_type": "code",
   "execution_count": 160,
   "metadata": {},
   "outputs": [],
   "source": [
    "def shutdown():\n",
    "    # takes user input and stores it in a variable called user_input\n",
    "    user_input = input('Would you like to shutdown this notebook? y/n: ')\n",
    "    \n",
    "    # based on the user input, it will evaluate the below conditional:\n",
    "    if user_input == 'y':\n",
    "        print(\"Shutting this notebook down in 3, 2, 1...\")\n",
    "    else:\n",
    "        print(\"Okay, will not shutdown!\")\n",
    "    \n",
    "    # we nested our function within itself! this function will run over and over again\n",
    "    shutdown()"
   ]
  },
  {
   "cell_type": "code",
   "execution_count": null,
   "metadata": {},
   "outputs": [
    {
     "name": "stdout",
     "output_type": "stream",
     "text": [
      "Would you like to shutdown this notebook? y/n: y\n",
      "Shutting this notebook down in 3, 2, 1...\n",
      "Would you like to shutdown this notebook? y/n: n\n",
      "Okay, will not shutdown!\n"
     ]
    }
   ],
   "source": [
    "shutdown()"
   ]
  },
  {
   "cell_type": "code",
   "execution_count": null,
   "metadata": {},
   "outputs": [],
   "source": [
    "    "
   ]
  }
 ],
 "metadata": {
  "kernelspec": {
   "display_name": "Python 3",
   "language": "python",
   "name": "python3"
  },
  "language_info": {
   "codemirror_mode": {
    "name": "ipython",
    "version": 3
   },
   "file_extension": ".py",
   "mimetype": "text/x-python",
   "name": "python",
   "nbconvert_exporter": "python",
   "pygments_lexer": "ipython3",
   "version": "3.8.3"
  }
 },
 "nbformat": 4,
 "nbformat_minor": 4
}
