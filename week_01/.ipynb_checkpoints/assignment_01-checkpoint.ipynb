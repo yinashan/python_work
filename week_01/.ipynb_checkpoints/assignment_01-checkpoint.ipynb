{
 "cells": [
  {
   "cell_type": "markdown",
   "metadata": {},
   "source": [
    "### Assignment 1: Create your own calculator!"
   ]
  },
  {
   "cell_type": "markdown",
   "metadata": {},
   "source": [
    "Before we actually code in Python, please write out how you might build this with code in plain English (pseudocoding!). Pseudocode is an important part of programming and is used in planning an algorithm with sketching out the structure of the program before the actual coding takes place."
   ]
  },
  {
   "cell_type": "code",
   "execution_count": 2,
   "metadata": {},
   "outputs": [],
   "source": [
    "# example psuedocode:\n",
    "# 1. A calculator will take in numbers that we want to use the operators on. So we want store user input\n",
    "# in variables. The first variable will store the first number, the second one will store the second number, \n",
    "# and the third will store the mathematical operator the user wants to perform on these numbers."
   ]
  },
  {
   "cell_type": "code",
   "execution_count": 3,
   "metadata": {},
   "outputs": [],
   "source": [
    "# How a calculator would be built\n",
    "\n",
    "# A calculater has 4 basic preset ways of doing maths: addition, subtraction, multiplication and division.\n",
    "# The user needs at least 2 numbers to input into the calculator\n",
    "# It's ok to have more than 2 numbers, but the calculator will work with 2 numbers at a time\n",
    "# The user also needs to choose which mathematical operator to perform on the input numbers"
   ]
  },
  {
   "cell_type": "markdown",
   "metadata": {},
   "source": [
    "__Using conditionals, operators, and functions, try creating a working calculator! We will go over the solution next week.__\n",
    "\n",
    "_Things to consider:_\n",
    "\n",
    "<li>You may want to ask for user input: use the Python input() method. If you're asking for numbers, you may need to change the input value from a string to a number. Consider using int(x) and float(x) to do so.</li>\n",
    "<li>Use the operators with the conditionals we learned in class! Ex) if user_input == '*': print(x * y) </li>\n",
    "<li>Use if...elif conditionals!</li>\n",
    "<li>Before you put your code into a function for reusability purposes, hard code first to make sure your logic is working</li>\n",
    "<li>Keep it simple and use the four operators we went over in class: +, -, *, /</li>"
   ]
  },
  {
   "cell_type": "code",
   "execution_count": 4,
   "metadata": {},
   "outputs": [],
   "source": [
    "# code down here:\n"
   ]
  },
  {
   "cell_type": "code",
   "execution_count": 9,
   "metadata": {},
   "outputs": [
    {
     "name": "stdout",
     "output_type": "stream",
     "text": [
      "try again\n"
     ]
    }
   ],
   "source": [
    "# single operation\n",
    "\n",
    "x=5\n",
    "y=3\n",
    "operator=\"/\"\n",
    "\n",
    "if operator == \"*\":\n",
    "    print (x*y)\n",
    "else:\n",
    "    print (\"try again\")"
   ]
  },
  {
   "cell_type": "code",
   "execution_count": 16,
   "metadata": {},
   "outputs": [
    {
     "name": "stdout",
     "output_type": "stream",
     "text": [
      "1.6666666666666667\n"
     ]
    }
   ],
   "source": [
    "# one elif\n",
    "\n",
    "x=5\n",
    "y=3\n",
    "operator=\"/\"\n",
    "\n",
    "if operator == \"*\":\n",
    "    print (x*y)\n",
    "elif operator == \"/\":\n",
    "    print (x/y)\n",
    "else:\n",
    "    print (\"try again\")"
   ]
  },
  {
   "cell_type": "code",
   "execution_count": 23,
   "metadata": {},
   "outputs": [
    {
     "name": "stdout",
     "output_type": "stream",
     "text": [
      "8\n"
     ]
    }
   ],
   "source": [
    "# more elifs\n",
    "\n",
    "x=5\n",
    "y=3\n",
    "operator =\"+\"\n",
    "\n",
    "if operator == \"*\":\n",
    "    print (x*y)\n",
    "elif operator == \"/\":\n",
    "    print (x/y)\n",
    "elif operator == \"-\":\n",
    "    print (x-y)\n",
    "elif operator == \"+\":\n",
    "    print (x+y)\n",
    "else:\n",
    "    print (\"try again\")"
   ]
  },
  {
   "cell_type": "code",
   "execution_count": 7,
   "metadata": {},
   "outputs": [
    {
     "name": "stdout",
     "output_type": "stream",
     "text": [
      "enter first number 6\n",
      "enter second number 4\n",
      "enter the operator *\n",
      "24\n"
     ]
    }
   ],
   "source": [
    "#adding user input\n",
    "\n",
    "x = int(input(\"enter first number \"))\n",
    "y = int(input(\"enter second number \"))\n",
    "operator = input(\"enter the operator \")\n",
    "if operator == \"*\":\n",
    "    print (x*y)\n",
    "elif operator == \"+\":\n",
    "    print (x+y)\n",
    "elif operator == \"-\":\n",
    "    print (x-y)\n",
    "elif operator == \"/\":\n",
    "    print (x/y)\n",
    "else:\n",
    "    print (\"try again\")"
   ]
  },
  {
   "cell_type": "code",
   "execution_count": null,
   "metadata": {},
   "outputs": [],
   "source": []
  }
 ],
 "metadata": {
  "kernelspec": {
   "display_name": "Python 3",
   "language": "python",
   "name": "python3"
  },
  "language_info": {
   "codemirror_mode": {
    "name": "ipython",
    "version": 3
   },
   "file_extension": ".py",
   "mimetype": "text/x-python",
   "name": "python",
   "nbconvert_exporter": "python",
   "pygments_lexer": "ipython3",
   "version": "3.8.3"
  }
 },
 "nbformat": 4,
 "nbformat_minor": 4
}
