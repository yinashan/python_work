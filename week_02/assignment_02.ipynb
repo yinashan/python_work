{
 "cells": [
  {
   "cell_type": "markdown",
   "metadata": {},
   "source": [
    "# Practice Exercise"
   ]
  },
  {
   "cell_type": "markdown",
   "metadata": {},
   "source": [
    "Exercise 1:"
   ]
  },
  {
   "cell_type": "code",
   "execution_count": null,
   "metadata": {},
   "outputs": [],
   "source": [
    "# using functions and nested functions reformat your calculator code\n",
    "# so users can use our calculator again and again!"
   ]
  },
  {
   "cell_type": "code",
   "execution_count": 7,
   "metadata": {},
   "outputs": [
    {
     "name": "stdout",
     "output_type": "stream",
     "text": [
      "enter first number 35\n",
      "enter second number 5\n",
      "enter the operator -\n",
      "30\n"
     ]
    }
   ],
   "source": [
    "# code from last week's calculator\n",
    "\n",
    "x = int(input(\"enter first number \"))\n",
    "y = int(input(\"enter second number \"))\n",
    "operator = input(\"enter the operator \")\n",
    "if operator == \"*\":\n",
    "    print (x*y)\n",
    "elif operator == \"+\":\n",
    "    print (x+y)\n",
    "elif operator == \"-\":\n",
    "    print (x-y)\n",
    "elif operator == \"/\":\n",
    "    print (x/y)\n",
    "else:\n",
    "    print (\"try again\")"
   ]
  },
  {
   "cell_type": "code",
   "execution_count": 8,
   "metadata": {},
   "outputs": [],
   "source": [
    "# defining calculator function\n",
    "\n",
    "def calculator():\n",
    "    x = int(input(\"enter first number \"))\n",
    "    y = int(input(\"enter second number \"))\n",
    "    operator = input(\"enter the operator \")\n",
    " \n",
    "    if operator == \"*\":\n",
    "        print (x*y)\n",
    "    \n",
    "    elif operator == \"+\":\n",
    "        print (x+y)\n",
    "    \n",
    "    elif operator == \"-\":\n",
    "        print (x-y)\n",
    "    \n",
    "    elif operator == \"/\":\n",
    "        print (x/y)\n",
    "    \n",
    "    else:\n",
    "        print (\"try again\")"
   ]
  },
  {
   "cell_type": "code",
   "execution_count": 11,
   "metadata": {},
   "outputs": [],
   "source": [
    "# loop calculator\n",
    "\n",
    "def loop():\n",
    "    \n",
    "    yesno = input('''\n",
    "Would you like to calculate again?\n",
    "'y' for yes\n",
    "'n' for no\n",
    "''')\n",
    "    \n",
    "    if yesno == 'y':\n",
    "        calculator()\n",
    "    elif yesno == 'n':\n",
    "        print('Thank you')\n",
    "    else:\n",
    "        print('Please try again')\n",
    "    "
   ]
  },
  {
   "cell_type": "code",
   "execution_count": 12,
   "metadata": {},
   "outputs": [],
   "source": [
    "# working looping calculator\n",
    "\n",
    "def calculator():\n",
    "    x = int(input(\"enter first number \"))\n",
    "    y = int(input(\"enter second number \"))\n",
    "    operator = input(\"enter the operator \")\n",
    " \n",
    "    if operator == \"*\":\n",
    "        print (x*y)\n",
    "    \n",
    "    elif operator == \"+\":\n",
    "        print (x+y)\n",
    "    \n",
    "    elif operator == \"-\":\n",
    "        print (x-y)\n",
    "    \n",
    "    elif operator == \"/\":\n",
    "        print (x/y)\n",
    "    \n",
    "    else:\n",
    "        print (\"try again\")\n",
    "        \n",
    "    loop()"
   ]
  },
  {
   "cell_type": "code",
   "execution_count": 13,
   "metadata": {},
   "outputs": [
    {
     "name": "stdout",
     "output_type": "stream",
     "text": [
      "enter first number 254\n",
      "enter second number 65\n",
      "enter the operator *\n",
      "16510\n",
      "\n",
      "Would you like to calculate again?\n",
      "'y' for yes\n",
      "'n' for no\n",
      "y\n",
      "enter first number 5452\n",
      "enter second number 452\n",
      "enter the operator +\n",
      "5904\n",
      "\n",
      "Would you like to calculate again?\n",
      "'y' for yes\n",
      "'n' for no\n",
      "n\n",
      "Thank you\n"
     ]
    }
   ],
   "source": [
    "calculator()"
   ]
  },
  {
   "cell_type": "markdown",
   "metadata": {},
   "source": [
    "Exercise 2:"
   ]
  },
  {
   "cell_type": "code",
   "execution_count": null,
   "metadata": {},
   "outputs": [],
   "source": [
    "# Print the first 10 natural numbers using a loop \n",
    "\n",
    "# Expected output: \n",
    "# 0\n",
    "# 1\n",
    "# 2\n",
    "# 3\n",
    "# 4\n",
    "# 5\n",
    "# 6\n",
    "# 7\n",
    "# 8\n",
    "# 9\n",
    "# 10"
   ]
  },
  {
   "cell_type": "markdown",
   "metadata": {},
   "source": [
    "Write your code below:"
   ]
  },
  {
   "cell_type": "code",
   "execution_count": 14,
   "metadata": {},
   "outputs": [
    {
     "name": "stdout",
     "output_type": "stream",
     "text": [
      "0\n",
      "1\n",
      "2\n",
      "3\n",
      "4\n",
      "5\n",
      "6\n",
      "7\n",
      "8\n",
      "9\n",
      "10\n"
     ]
    }
   ],
   "source": [
    "x = 0\n",
    "while x < 11:\n",
    " print(x)\n",
    " x += 1"
   ]
  },
  {
   "cell_type": "code",
   "execution_count": 16,
   "metadata": {},
   "outputs": [
    {
     "name": "stdout",
     "output_type": "stream",
     "text": [
      "0\n",
      "1\n",
      "2\n",
      "3\n",
      "4\n",
      "5\n",
      "6\n",
      "7\n",
      "8\n",
      "9\n",
      "10\n"
     ]
    }
   ],
   "source": [
    "x = 0\n",
    "while x <= 10:\n",
    " print(x)\n",
    " x += 1"
   ]
  },
  {
   "cell_type": "markdown",
   "metadata": {},
   "source": [
    "Exercise 3:"
   ]
  },
  {
   "cell_type": "code",
   "execution_count": null,
   "metadata": {},
   "outputs": [],
   "source": [
    "# Execute the loop in exercise 1 and print the message Done! after \n",
    "\n",
    "# Expected output: \n",
    "# 0\n",
    "# 1\n",
    "# 2\n",
    "# 3\n",
    "# 4\n",
    "# 5\n",
    "# 6\n",
    "# 7\n",
    "# 8\n",
    "# 9\n",
    "# 10\n",
    "# Done! "
   ]
  },
  {
   "cell_type": "markdown",
   "metadata": {},
   "source": [
    "Write your code below:"
   ]
  },
  {
   "cell_type": "code",
   "execution_count": 17,
   "metadata": {},
   "outputs": [
    {
     "name": "stdout",
     "output_type": "stream",
     "text": [
      "0\n",
      "1\n",
      "2\n",
      "3\n",
      "4\n",
      "5\n",
      "6\n",
      "7\n",
      "8\n",
      "9\n",
      "10\n",
      "Done!\n"
     ]
    }
   ],
   "source": [
    "x = 0\n",
    "while x < 11:\n",
    " print(x)\n",
    " x += 1\n",
    "print ('Done!')"
   ]
  },
  {
   "cell_type": "code",
   "execution_count": 19,
   "metadata": {},
   "outputs": [
    {
     "name": "stdout",
     "output_type": "stream",
     "text": [
      "0\n",
      "Done!\n",
      "1\n",
      "Done!\n",
      "2\n",
      "Done!\n",
      "3\n",
      "Done!\n",
      "4\n",
      "Done!\n",
      "5\n",
      "Done!\n",
      "6\n",
      "Done!\n",
      "7\n",
      "Done!\n",
      "8\n",
      "Done!\n",
      "9\n",
      "Done!\n",
      "10\n",
      "Done!\n"
     ]
    }
   ],
   "source": [
    "#test \n",
    "\n",
    "x = 0\n",
    "while x < 11:\n",
    " print(x)\n",
    " x += 1\n",
    " print ('Done!')"
   ]
  },
  {
   "cell_type": "code",
   "execution_count": 22,
   "metadata": {},
   "outputs": [
    {
     "name": "stdout",
     "output_type": "stream",
     "text": [
      "0\n",
      "1\n",
      "2\n",
      "3\n",
      "4\n",
      "5\n",
      "6\n",
      "7\n",
      "8\n",
      "9\n",
      "10\n",
      "Done!\n"
     ]
    }
   ],
   "source": [
    "#test \n",
    "\n",
    "x = 0\n",
    "while x < 11:\n",
    " print(x)\n",
    " x += 1\n",
    "else:\n",
    "    print ('Done!')"
   ]
  },
  {
   "cell_type": "code",
   "execution_count": 23,
   "metadata": {},
   "outputs": [
    {
     "name": "stdout",
     "output_type": "stream",
     "text": [
      "0\n",
      "1\n",
      "2\n",
      "3\n",
      "4\n",
      "5\n",
      "6\n",
      "7\n",
      "8\n",
      "9\n",
      "10\n",
      "Done!\n"
     ]
    }
   ],
   "source": [
    "# another method, for loop\n",
    "\n",
    "for i in range (11):\n",
    "    print(i)\n",
    "else:\n",
    "    print ('Done!')"
   ]
  },
  {
   "cell_type": "markdown",
   "metadata": {},
   "source": [
    "Exercise 4:"
   ]
  },
  {
   "cell_type": "code",
   "execution_count": null,
   "metadata": {},
   "outputs": [],
   "source": [
    "# Print the numbers greater than 150 from the list \n",
    "\n",
    "# list = [12, 15, 47, 63, 78, 101, 157, 178, 189]\n",
    "# Expected output: \n",
    "\n",
    "# 157\n",
    "# 178 \n",
    "# 189 "
   ]
  },
  {
   "cell_type": "markdown",
   "metadata": {},
   "source": [
    "Write your code below:"
   ]
  },
  {
   "cell_type": "code",
   "execution_count": 24,
   "metadata": {},
   "outputs": [
    {
     "name": "stdout",
     "output_type": "stream",
     "text": [
      "[157, 178, 189]\n"
     ]
    }
   ],
   "source": [
    "# not quite right\n",
    "\n",
    "list = [12, 15, 47, 63, 78, 101, 157, 178, 189]\n",
    "print(list[6:9])"
   ]
  },
  {
   "cell_type": "code",
   "execution_count": 28,
   "metadata": {},
   "outputs": [
    {
     "name": "stdout",
     "output_type": "stream",
     "text": [
      "157\n",
      "178\n",
      "189\n"
     ]
    }
   ],
   "source": [
    "# correct\n",
    "\n",
    "list = [12, 15, 47, 63, 78, 101, 157, 178, 189]\n",
    "for number in list:\n",
    "    if(number > 150):\n",
    "        print(number)"
   ]
  },
  {
   "cell_type": "markdown",
   "metadata": {},
   "source": [
    "Exercise 5:"
   ]
  },
  {
   "cell_type": "code",
   "execution_count": null,
   "metadata": {},
   "outputs": [],
   "source": [
    "# Print the number that is even and less than 150 \n",
    "\n",
    "# list = [12, 15, 47, 63, 78, 101, 157, 178, 189]\n",
    "# Expected output: \n",
    "\n",
    "# 12\n",
    "# 78\n",
    "\n",
    "# Hint: if you find a number greater than 150, stop the loop with a break"
   ]
  },
  {
   "cell_type": "markdown",
   "metadata": {},
   "source": [
    "Write your code below:"
   ]
  },
  {
   "cell_type": "code",
   "execution_count": 30,
   "metadata": {},
   "outputs": [
    {
     "name": "stdout",
     "output_type": "stream",
     "text": [
      "12\n",
      "78\n"
     ]
    }
   ],
   "source": [
    "list = [12, 15, 47, 63, 78, 101, 157, 178, 189]\n",
    "\n",
    "for number in list:\n",
    "    if (number < 150 and number %2 == 0):\n",
    "        print (number)\n"
   ]
  },
  {
   "cell_type": "markdown",
   "metadata": {},
   "source": [
    "Exercise 6:"
   ]
  },
  {
   "cell_type": "code",
   "execution_count": null,
   "metadata": {},
   "outputs": [],
   "source": [
    "# This will be a challenging!\n",
    "\n",
    "# Write a while loop that flips a coin 10 times\n",
    "\n",
    "# Hint: Look into the random library using: \n",
    "# https://docs.python.org/3/library/random.html\n",
    "# https://www.pythonforbeginners.com/random/how-to-use-the-random-module-in-python"
   ]
  },
  {
   "cell_type": "markdown",
   "metadata": {},
   "source": [
    "Write your code below:"
   ]
  },
  {
   "cell_type": "code",
   "execution_count": 35,
   "metadata": {},
   "outputs": [
    {
     "name": "stdout",
     "output_type": "stream",
     "text": [
      "tails\n",
      "tails\n",
      "heads\n",
      "heads\n",
      "heads\n",
      "heads\n",
      "heads\n",
      "tails\n",
      "heads\n",
      "heads\n"
     ]
    }
   ],
   "source": [
    "# importing the python random library\n",
    "import random\n",
    "\n",
    "\n",
    "count = 0\n",
    "\n",
    "while count < 10:\n",
    "    \n",
    "    coin = random.randint(1,2)\n",
    "\n",
    "    if coin == 1:\n",
    "        print('heads')\n",
    "        count += 1\n",
    "    elif coin == 2:\n",
    "        print ('tails') \n",
    "        count += 1"
   ]
  },
  {
   "cell_type": "code",
   "execution_count": 38,
   "metadata": {},
   "outputs": [
    {
     "name": "stdout",
     "output_type": "stream",
     "text": [
      "tails\n",
      "heads\n",
      "heads\n",
      "heads\n",
      "heads\n",
      "heads\n",
      "tails\n",
      "heads\n",
      "tails\n",
      "tails\n",
      "Heads flipped 6 times\n",
      "Tails flipped 4 times\n"
     ]
    }
   ],
   "source": [
    "import random\n",
    "\n",
    "\n",
    "count = 0\n",
    "count_heads = 0\n",
    "count_tails = 0\n",
    "\n",
    "while count < 10:\n",
    "    \n",
    "    coin = random.randint(1,2)\n",
    "\n",
    "    if coin == 1:\n",
    "        print('heads')\n",
    "        count += 1\n",
    "        count_heads += 1\n",
    "    elif coin == 2:\n",
    "        print ('tails') \n",
    "        count += 1\n",
    "        count_tails += 1\n",
    "        \n",
    "print ('Heads flipped', count_heads, 'times')\n",
    "print ('Tails flipped', count_tails, 'times')"
   ]
  },
  {
   "cell_type": "code",
   "execution_count": null,
   "metadata": {},
   "outputs": [],
   "source": []
  }
 ],
 "metadata": {
  "kernelspec": {
   "display_name": "Python 3",
   "language": "python",
   "name": "python3"
  },
  "language_info": {
   "codemirror_mode": {
    "name": "ipython",
    "version": 3
   },
   "file_extension": ".py",
   "mimetype": "text/x-python",
   "name": "python",
   "nbconvert_exporter": "python",
   "pygments_lexer": "ipython3",
   "version": "3.8.3"
  }
 },
 "nbformat": 4,
 "nbformat_minor": 2
}
