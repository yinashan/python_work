{
 "cells": [
  {
   "cell_type": "markdown",
   "metadata": {},
   "source": [
    "## API\n",
    "\n",
    "Today, we'll continue with the dictionaries lecture from last week.\n",
    "one of the most popular forms of python dictionaries you'll run across as you work is __JSON__ ([JavaScript Object Notation](https://www.json.org/json-en.html)). JSON is the primary format in which data is passed back and forth to APIs ([Application Programming Interface](https://medium.com/@perrysetgo/what-exactly-is-an-api-69f36968a41f)), and most API servers will send their responses in JSON format. Python has great JSON support, with the json package. We'll play around with a snippet of a call result from the [MET Museum API]('https://metmuseum.github.io/')."
   ]
  },
  {
   "cell_type": "code",
   "execution_count": null,
   "metadata": {},
   "outputs": [],
   "source": [
    "# import requests and json - needed to make an API call\n",
    "import requests\n",
    "import json"
   ]
  },
  {
   "cell_type": "code",
   "execution_count": null,
   "metadata": {},
   "outputs": [],
   "source": [
    "# this is the api endpoint to get a JSON of each department info\n",
    "dept_api_url = 'https://collectionapi.metmuseum.org/public/collection/v1/departments'"
   ]
  },
  {
   "cell_type": "code",
   "execution_count": null,
   "metadata": {},
   "outputs": [],
   "source": [
    "# calling the API with requests\n",
    "response = requests.get(dept_api_url)\n",
    "# creating a variable called data to hold the json formatted result\n",
    "department_data = response.json()"
   ]
  },
  {
   "cell_type": "code",
   "execution_count": null,
   "metadata": {},
   "outputs": [],
   "source": [
    "print(type(department_data))\n",
    "department_data"
   ]
  },
  {
   "cell_type": "code",
   "execution_count": null,
   "metadata": {},
   "outputs": [],
   "source": [
    "# from the JSON above we only need the list with all department \"dictionaries\" in them\n",
    "# we'll store this in a variable called departments\n",
    "departments = department_data['departments']\n",
    "departments"
   ]
  },
  {
   "cell_type": "code",
   "execution_count": null,
   "metadata": {},
   "outputs": [],
   "source": [
    "# once we have the department information, we can examine how many objects there are in \n",
    "# total for a particular department.\n",
    "# this api endpoint also provides a list of object ids which we'll use later to get images\n",
    "# here we are examining the first department, which is American Decorative Arts\n",
    "obj_by_dept_url = \"https://collectionapi.metmuseum.org/public/collection/v1/objects?departmentIds=\" + str(1) + '&q=cat'\n",
    "response = requests.get(obj_by_dept_url)\n",
    "obj_data = response.json()\n",
    "print(obj_data)"
   ]
  },
  {
   "cell_type": "code",
   "execution_count": null,
   "metadata": {},
   "outputs": [],
   "source": [
    "# we can get the info for all the departments by looping\n",
    "for department in departments:\n",
    "    department_url = \"https://collectionapi.metmuseum.org/public/collection/v1/objects?departmentIds=\" + str(department['departmentId']) + '&q=cat'\n",
    "    response = requests.get(department_url)\n",
    "    data = response.json()\n",
    "    print(data)"
   ]
  },
  {
   "cell_type": "code",
   "execution_count": null,
   "metadata": {},
   "outputs": [],
   "source": [
    "# we can create a list with objects per deparment so that the name of the department\n",
    "# and the total number of objects are grouped together\n",
    "dept_obj_total = []\n",
    "\n",
    "for department in departments:\n",
    "    obj = {}\n",
    "    obj['title'] = department['displayName']\n",
    "    dept_obj_total.append(obj)\n",
    "    \n",
    "    department_url = \"https://collectionapi.metmuseum.org/public/collection/v1/objects?departmentIds=\" + str(department['departmentId']) + '&q=cat'\n",
    "    response = requests.get(department_url)\n",
    "    data = response.json()\n",
    "    obj['total_objects'] = data['total']\n",
    "    \n",
    "print(dept_obj_total)"
   ]
  },
  {
   "cell_type": "markdown",
   "metadata": {},
   "source": [
    "### Let's visualize this data:"
   ]
  },
  {
   "cell_type": "code",
   "execution_count": null,
   "metadata": {},
   "outputs": [],
   "source": [
    "import matplotlib.pyplot as plt\n",
    "import numpy as np"
   ]
  },
  {
   "cell_type": "code",
   "execution_count": null,
   "metadata": {},
   "outputs": [],
   "source": [
    "# plt takes in lists for x, y values\n",
    "# getting a list of total # of objects per department for our y values\n",
    "# and a list of all the department names for our x values\n",
    "total_num = []\n",
    "dept_names = []\n",
    "for dept_obj in dept_obj_total:\n",
    "    total_num.append(dept_obj['total_objects'])\n",
    "    dept_names.append(dept_obj['title'])\n",
    "\n",
    "# using numpy to calculate the color so it changes by bar height\n",
    "y = np.array(total_num)    \n",
    "my_cmap = plt.get_cmap(\"Pastel2\")\n",
    "rescale = lambda y: (y - np.min(y)) / (np.max(y) - np.min(y))\n",
    "\n",
    "# setting the figure size\n",
    "plt.figure(figsize=(20,10))\n",
    "plt.bar(range(len(dept_obj_total)), total_num, color=my_cmap(rescale(y)), align=\"center\")\n",
    "plt.xticks(range(len(dept_obj_total)), dept_names, rotation=45, ha=\"right\", fontsize=12)\n",
    "plt.show()"
   ]
  },
  {
   "cell_type": "markdown",
   "metadata": {},
   "source": [
    "### Inspecting images"
   ]
  },
  {
   "cell_type": "code",
   "execution_count": null,
   "metadata": {},
   "outputs": [],
   "source": [
    "# we are going to get images from {'departmentId': 11, 'displayName': 'European Paintings'}\n",
    "# first we call the api endpoint for the objects\n",
    "# and store the JSON response in a variable\n",
    "ep_url = \"https://collectionapi.metmuseum.org/public/collection/v1/objects?departmentIds=\" + str(11) + '&q=cat'\n",
    "response = requests.get(ep_url)\n",
    "ep_data = response.json()"
   ]
  },
  {
   "cell_type": "code",
   "execution_count": null,
   "metadata": {},
   "outputs": [],
   "source": [
    "# inspect our JSON data\n",
    "ep_data"
   ]
  },
  {
   "cell_type": "code",
   "execution_count": null,
   "metadata": {},
   "outputs": [],
   "source": [
    "# we are going to look at the first 10 images\n",
    "# we slice through from 0: 10 -> 0, 1, 2, 3, 4, 5, 6, 7, 8, 9\n",
    "# and store the 10 object ids in a variable\n",
    "ep_objects = ep_data['objectIDs'][0: 10]\n",
    "ep_objects"
   ]
  },
  {
   "cell_type": "code",
   "execution_count": null,
   "metadata": {},
   "outputs": [],
   "source": [
    "# let's see what a single object JSON looks like:\n",
    "obj_url = \"https://collectionapi.metmuseum.org/public/collection/v1/objects/436199\"\n",
    "response = requests.get(obj_url)\n",
    "obj_data = response.json()\n",
    "obj_data"
   ]
  },
  {
   "cell_type": "code",
   "execution_count": null,
   "metadata": {},
   "outputs": [],
   "source": [
    "# now that we know that the images are in the primaryImage key, we are going to iterate through our list of 10\n",
    "# image objects and store the urls in a new list\n",
    "img_urls = []\n",
    "\n",
    "for obj in ep_objects:\n",
    "    # making an api call for each objectID\n",
    "    obj_url = \"https://collectionapi.metmuseum.org/public/collection/v1/objects/\" + str(obj)\n",
    "    response = requests.get(obj_url)\n",
    "    obj_data = response.json()\n",
    "    primaryimage_url = obj_data['primaryImage']\n",
    "    # sometimes an object might not have a primaryImage URL. we don't want empty strings so let's filter those out\n",
    "    if(primaryimage_url):\n",
    "        img_urls.append(primaryimage_url)\n",
    "\n",
    "img_urls"
   ]
  },
  {
   "cell_type": "code",
   "execution_count": null,
   "metadata": {},
   "outputs": [],
   "source": [
    "# we are importing the io module from scikit-image library\n",
    "# https://scikit-image.org/\n",
    "# scikit-image is a collection of algorithms for image processing.\n",
    "# the io module gives us utilities to read and write images in various formats.\n",
    "# we are also importing opencv. you'll get to learn more about this library this weekend\n",
    "from skimage import io\n",
    "import cv2"
   ]
  },
  {
   "cell_type": "code",
   "execution_count": null,
   "metadata": {},
   "outputs": [],
   "source": [
    "# see our images directly in the notebook\n",
    "for index, url in enumerate(img_urls): # enumerate(list) gives us access to index numbers!\n",
    "    image = io.imread(url) # using io.imread to get images from our url\n",
    "    plt.imshow(image) # using matplotlib's imshow to read the images\n",
    "    plt.show() # using plt.show to plot our images"
   ]
  },
  {
   "cell_type": "code",
   "execution_count": null,
   "metadata": {},
   "outputs": [],
   "source": [
    "# see our images directly in the notebook with color correction\n",
    "for index, url in enumerate(img_urls):\n",
    "    if index == 3: # this particular image at index 3 has an BGR color layer, so we are using the COLOR_BGR2RGB method from cv2 to change it back to RGB\n",
    "        image = io.imread(url)\n",
    "        cc_image = cv2.cvtColor(image, cv2.COLOR_BGR2RGB)\n",
    "        plt.imshow(cc_image)\n",
    "    else:\n",
    "        image = io.imread(url)\n",
    "        plt.imshow(image)\n",
    "    plt.show()"
   ]
  },
  {
   "cell_type": "code",
   "execution_count": null,
   "metadata": {},
   "outputs": [],
   "source": [
    "# PIL, short for Python Imaging Library,is a free and open-source additional library\n",
    "# that adds support for opening, manipulating, and saving many different image file formats.\n",
    "# from Python's built in io library, we are importing Bytes.IO\n",
    "# read more here: https://docs.python.org/3/library/io.html\n",
    "from PIL import Image\n",
    "from io import BytesIO"
   ]
  },
  {
   "cell_type": "code",
   "execution_count": null,
   "metadata": {},
   "outputs": [],
   "source": [
    "# open in preview:\n",
    "for url in img_urls:  \n",
    "    response = requests.get(url)\n",
    "    img = Image.open(BytesIO(response.content))\n",
    "    img.show()"
   ]
  },
  {
   "cell_type": "code",
   "execution_count": null,
   "metadata": {},
   "outputs": [],
   "source": [
    "# download our images:\n",
    "# first: create a folder named images\n",
    "# we can use urllib to download the image urls: for opening and reading URLs\n",
    "import urllib.request\n",
    "# we want to add a sleeper to not get blocked \n",
    "import time \n",
    "import random\n",
    "\n",
    "# Iterate over DataFrame rows as (index, row) pairs\n",
    "for index, url in enumerate(img_urls):\n",
    "    # Sets the file name as everything after the / and the end of the link\n",
    "    file_name = url.split('/')[-1]\n",
    "    print(file_name)\n",
    "    # download our images\n",
    "    urllib.request.urlretrieve(url, 'images/' + file_name)\n",
    "    # adding random x second break in between each image so that the Met doesn't think we're hacking into their system\n",
    "    time.sleep(random.randint(1, 5))"
   ]
  },
  {
   "cell_type": "markdown",
   "metadata": {},
   "source": [
    "## Automation"
   ]
  },
  {
   "cell_type": "code",
   "execution_count": null,
   "metadata": {},
   "outputs": [],
   "source": [
    "# we need to import two libraries for our automation task:\n",
    "# 1. os -> This module provides a portable way of using operating system dependent functionality.\n",
    "# 2. time -> This module provides various time-related functions.\n",
    "import os\n",
    "import time"
   ]
  },
  {
   "cell_type": "markdown",
   "metadata": {},
   "source": [
    "### creating 100 files\n",
    "\n",
    "We are using python to programmatically create 100 txt files in a folder called pages. this will need the os and time libraries, so make sure to run the cell above. have the pages folder open so you can see the files being created in real time!"
   ]
  },
  {
   "cell_type": "code",
   "execution_count": null,
   "metadata": {},
   "outputs": [],
   "source": [
    "# you need to create a folder called pages in the directory you're working in\n",
    "# this is where our txt files will be populated.\n",
    "path = \"./pages\"\n",
    "\n",
    "# this creates the pages that we want to work with.\n",
    "# it assumes a pages folder exists within the same context as the notebook\n",
    "for i in range(100): # 100 files get created\n",
    "    page = i + 1 # i starts at 0 so we want to add 1 so our files are from 1 - 100 and not 0 - 99.\n",
    "    # ./pages/page.txt\n",
    "    # open() creates the file, write() creates the writing\n",
    "    # close() saves and leaves the file\n",
    "    f = open(\"./pages/\" + str(page) + \".txt\", \"w+\")\n",
    "    f.write(\"This is page %s.\" % (page)  )\n",
    "    f.write(\"\\r\\rThis is where your amazing writing will go.\\r\\r\"  )\n",
    "    f.write(\"This is the end of page %s.\" % (page)  )\n",
    "    f.close()\n",
    "    #this pauses execution for a specified time so you can watch it happen\n",
    "    print(str(page) +'.txt has been created')\n",
    "    time.sleep(0.25) # delay execution for .25 seconds"
   ]
  },
  {
   "cell_type": "markdown",
   "metadata": {},
   "source": [
    "### creating the folders\n",
    "\n",
    "Here we are creating folders to put all of the 100 files. we are creating 10 folders in total (e.g. 10, 20, 30, etc). we will then put the files in their respective folders by 10s."
   ]
  },
  {
   "cell_type": "code",
   "execution_count": null,
   "metadata": {},
   "outputs": [],
   "source": [
    "path = \"./pages/\"\n",
    "textfiles = os.listdir(path)\n",
    "\n",
    "#uncomment the following line to see\n",
    "#print(textfiles) \n",
    "\n",
    "#This creates folders for 0 to 100 in increments of ten\n",
    "for i in range(0,11):\n",
    "    # i goes from 1 to 10 and we multply it by ten to make a consistent jump\n",
    "    # we then use that value to create the directory we want to have\n",
    "    directory = path + str(i * 10) # ./pages/10\n",
    "    # check if the path exists\n",
    "    if not os.path.exists(directory):\n",
    "        # if not, then make the folder\n",
    "        os.makedirs(directory)\n",
    "    # report completion & delay for .3 seconds\n",
    "    print(directory + \" has been created!\")\n",
    "    time.sleep(.3)"
   ]
  },
  {
   "cell_type": "markdown",
   "metadata": {},
   "source": [
    "### moving the files into the folders\n",
    "\n",
    "Finally, we are going to move all of our txt files into their folders."
   ]
  },
  {
   "cell_type": "code",
   "execution_count": null,
   "metadata": {},
   "outputs": [],
   "source": [
    "# this is a method to take a path and split it into name and extension\n",
    "def GetFilenameData(fullName):\n",
    "    #split separates our file name into something specific\n",
    "    fullnameSplit = fullName.split('.')\n",
    "    #this split is actually naive and is broken with names that have two or\n",
    "    #more . marks in them\n",
    "    fileName = {\n",
    "        'name': fullnameSplit[0],\n",
    "        #this if statement is a Ternary operation that returns none if the\n",
    "        #extension doesn't exist\n",
    "        'extension': fullnameSplit[1] if (len(fullnameSplit) > 1) else None\n",
    "    }\n",
    "    return fileName\n",
    "\n",
    "\n",
    "# get all the paths within the folder\n",
    "path = \"./pages/\"\n",
    "textfiles = os.listdir(path)\n",
    "\n",
    "\n",
    "# check for all files within a certain range and move it into an appropriate folder\n",
    "for file in textfiles:\n",
    "    filenameData = GetFilenameData(file)\n",
    "    #Make sure we aren't working with a folder\n",
    "    if filenameData['extension'] is not None and filenameData['name'] is not '':\n",
    "        #this 0,11 range is the same range we used to create the folders\n",
    "        for i in range(0,11):\n",
    "            if int(filenameData['name']) in range(i*10, (i+1)*10):\n",
    "                os.rename(path+file, path + str(i*10) +\"/\" + file)\n",
    "                # ./pages/filename.extension\n",
    "                # ./pages/GroupedPages/filename.extension\n",
    "                print(\"%s.%s has moved to /%s\" % (filenameData['name'], filenameData['extension'], i * 10))\n",
    "    time.sleep(.3)\n",
    "    \n",
    "''' This is the basic functionality of the for loop above\n",
    "for file in textfiles:\n",
    "    filenameData = GetFilenameData(file)\n",
    "    if filenameData['extension'] in not None:\n",
    "        if int(filenameData['name']) in range(0,10):\n",
    "            #path + file is the current file path\n",
    "            #path + \"0/\" + file is the new path we created\n",
    "            os.rename(path+file, path + \"0/\" + file\n",
    "'''"
   ]
  },
  {
   "cell_type": "code",
   "execution_count": null,
   "metadata": {},
   "outputs": [],
   "source": []
  }
 ],
 "metadata": {
  "kernelspec": {
   "display_name": "Python 3",
   "language": "python",
   "name": "python3"
  },
  "language_info": {
   "codemirror_mode": {
    "name": "ipython",
    "version": 3
   },
   "file_extension": ".py",
   "mimetype": "text/x-python",
   "name": "python",
   "nbconvert_exporter": "python",
   "pygments_lexer": "ipython3",
   "version": "3.7.6"
  }
 },
 "nbformat": 4,
 "nbformat_minor": 4
}
