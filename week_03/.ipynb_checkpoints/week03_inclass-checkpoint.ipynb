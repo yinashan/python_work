{
 "cells": [
  {
   "cell_type": "markdown",
   "metadata": {},
   "source": [
    "## String basics\n",
    "\n",
    "<a href=\"#00\">What is a string?</a><br>\n",
    "<a href=\"#01\">Creating strings</a>"
   ]
  },
  {
   "cell_type": "markdown",
   "metadata": {},
   "source": [
    "### What is a string?\n",
    "\n",
    "A `string` is a sequence of characters written between quotation marks.\n",
    "\n",
    "Here are a few examples:\n",
    "\n",
    "```\n",
    "my_string = 'abc'\n",
    "my_string = 'It was a dark and stormy night.'\n",
    "my_string = 'alsdf0898'\n",
    "my_string = '   '\n",
    "my_string = '\\n'\n",
    "```"
   ]
  },
  {
   "cell_type": "markdown",
   "metadata": {},
   "source": [
    "<h3 id=\"01\">Creating strings</h3>"
   ]
  },
  {
   "cell_type": "code",
   "execution_count": null,
   "metadata": {},
   "outputs": [],
   "source": [
    "## Strings are data surrounded by single or double quotes\n",
    "## The following are equivalent:\n",
    "\n",
    "print('Hello, world!')\n",
    "print(\"Hello, world!\")"
   ]
  },
  {
   "cell_type": "code",
   "execution_count": null,
   "metadata": {},
   "outputs": [],
   "source": [
    "# What happens if you want a quotation mark *inside* of your string?\n",
    "\n",
    "print('She was like, 'OMG what?!'')"
   ]
  },
  {
   "cell_type": "code",
   "execution_count": null,
   "metadata": {},
   "outputs": [],
   "source": [
    "## To include quotation marks *inside* a string, \n",
    "## we have a few options:\n",
    "\n",
    "# Option 1. Use one type outside, and another type inside.\n",
    "\n",
    "print('She was like, \"OMG what?!\"')\n",
    "print(\"She was like, 'OMG what?!'\")"
   ]
  },
  {
   "cell_type": "code",
   "execution_count": null,
   "metadata": {},
   "outputs": [],
   "source": [
    "# Option 2. Use *escape* characters so that the quotation mark\n",
    "# is interpreted as a *string literal*.\n",
    "\n",
    "print('She was like, \\'OMG what?!\\'')\n",
    "print(\"She was like, \\\"OMG what?!\\\"\")"
   ]
  },
  {
   "cell_type": "code",
   "execution_count": null,
   "metadata": {},
   "outputs": [],
   "source": [
    "# We can point a variable to a string.\n",
    "\n",
    "my_string = 'I love trucks.'\n",
    "print(my_string)"
   ]
  },
  {
   "cell_type": "markdown",
   "metadata": {},
   "source": [
    "### Manipulating string variables"
   ]
  },
  {
   "cell_type": "code",
   "execution_count": null,
   "metadata": {},
   "outputs": [],
   "source": [
    "# Strings in Python are *immutable*, meaning the\n",
    "# data itself doesn't change. (We will discuss this more later.)\n",
    "\n",
    "# But we can always redirect a variable (e.g. my_string) to \n",
    "# point to a new string.\n",
    "\n",
    "my_string = 'I love trucks.'\n",
    "print(my_string)\n",
    "\n",
    "my_string = 'I love butterflies.'\n",
    "print(my_string)"
   ]
  },
  {
   "cell_type": "code",
   "execution_count": null,
   "metadata": {},
   "outputs": [],
   "source": [
    "# We can add strings\n",
    "\n",
    "my_string = 'I love butterflies ' + 'and I love trucks.'\n",
    "print(my_string)"
   ]
  },
  {
   "cell_type": "code",
   "execution_count": null,
   "metadata": {},
   "outputs": [],
   "source": [
    "# We can add strings to existing strings \n",
    "# with a shorthand operator\n",
    "\n",
    "my_string = 'I love butterflies'\n",
    "my_string += '!!!!!'\n",
    "my_string += ' I really do!'\n",
    "\n",
    "print(my_string)"
   ]
  },
  {
   "cell_type": "code",
   "execution_count": null,
   "metadata": {},
   "outputs": [],
   "source": [
    "# We can also multiply strings by an integer!\n",
    "\n",
    "my_string = 'I love butterflies. ' * 3\n",
    "print(my_string)"
   ]
  },
  {
   "cell_type": "markdown",
   "metadata": {},
   "source": [
    "### Accessing characters"
   ]
  },
  {
   "cell_type": "code",
   "execution_count": null,
   "metadata": {},
   "outputs": [],
   "source": [
    "# Let's jump INTO the string data now.\n",
    "# We can access specific characters within a string\n",
    "# using an *index*.\n",
    "\n",
    "# As usual, indexing starts at 0:\n",
    "my_string = 'looong table'\n",
    "print(my_string[0])"
   ]
  },
  {
   "cell_type": "code",
   "execution_count": null,
   "metadata": {},
   "outputs": [],
   "source": [
    "my_string = ['looong table', 'test', 'hihi']\n",
    "print(my_string[0])"
   ]
  },
  {
   "cell_type": "code",
   "execution_count": null,
   "metadata": {},
   "outputs": [],
   "source": [
    "# We can access the last character using\n",
    "# *negative indexing*\n",
    "\n",
    "my_string = 'looong table'\n",
    "print(my_string[-1])"
   ]
  },
  {
   "cell_type": "code",
   "execution_count": null,
   "metadata": {},
   "outputs": [],
   "source": [
    "# We can access a *range* of characters by \n",
    "# providing a start and end index.\n",
    "\n",
    "my_string = 'looong table'\n",
    "print(my_string[7:12])"
   ]
  },
  {
   "cell_type": "code",
   "execution_count": null,
   "metadata": {},
   "outputs": [],
   "source": [
    "# If either the start or end is left undefined,\n",
    "# python will assume the start or end.\n",
    "\n",
    "my_string = 'looong table'\n",
    "print(my_string[:6]) # assume [0:6]\n",
    "print(my_string[7:]) # assume [6:12]"
   ]
  },
  {
   "cell_type": "markdown",
   "metadata": {},
   "source": [
    "### Docstrings\n",
    "\n",
    "\"If you violate these conventions, the worst you'll get is some dirty looks.\""
   ]
  },
  {
   "cell_type": "code",
   "execution_count": null,
   "metadata": {},
   "outputs": [],
   "source": [
    "# Docstrings are special strings, added to code for legibility.\n",
    "# It is convention to use them as the first statement in a\n",
    "# module, function, class, or method definition.\n",
    "\n",
    "# A one-line docstring example, in a function\n",
    "def yellHello():\n",
    "    \"\"\"Print 'hello' in all caps, with exclamation marks.\"\"\"\n",
    "    print('HELLO!!!!')\n",
    "\n",
    "yellHello()"
   ]
  },
  {
   "cell_type": "code",
   "execution_count": null,
   "metadata": {},
   "outputs": [],
   "source": [
    "# A multi-line docstring example, in a function\n",
    "\n",
    "def createUserID(last, first):\n",
    "    \"\"\"\n",
    "    Given a full name, return a corresponding user ID. \n",
    "  \n",
    "    The user ID is a concatenation of the first\n",
    "    four letters of the last name followed by the\n",
    "    first letter of the first name.\n",
    "  \n",
    "    Parameters: \n",
    "    last (string): Last name\n",
    "    first (string): First name\n",
    "  \n",
    "    Returns: \n",
    "    string: User ID\n",
    "    \"\"\"\n",
    "    \n",
    "    return(last[0:4] + first[0])\n",
    "\n",
    "userID = createUserID('garbier', 'anna')\n",
    "print(userID)"
   ]
  },
  {
   "cell_type": "markdown",
   "metadata": {},
   "source": [
    "### Strings as objects\n",
    "\n",
    "So far, we've been talking about strings as pieces of data. We are now going to think about them as **String Objects**.\n",
    "\n",
    "In object oriented programming, objects have two components: properties and methods. Properties are characteristics of the object. Methods are functions that the object can perform.\n",
    "\n",
    "All strings in python come with built-in methods (i.e. built-in things they can *do*).\n",
    "\n",
    "The following are just a few smaples. There are [many more](https://www.w3schools.com/python/python_ref_string.asp) to explore."
   ]
  },
  {
   "cell_type": "markdown",
   "metadata": {},
   "source": [
    "### Convert casing"
   ]
  },
  {
   "cell_type": "code",
   "execution_count": null,
   "metadata": {},
   "outputs": [],
   "source": [
    "# Convert casing\n",
    "my_string = \"onCe Upon A TIME...\"\n",
    "\n",
    "print(my_string.lower()) # Convert all chars to lowercase\n",
    "print(my_string.upper()) # Convert all chars to uppercase\n",
    "print(my_string.capitalize()) # Convert first char only to uppercase\n",
    "print(my_string.title()) # Convert string to title case\n",
    "print(my_string.swapcase()) # Swap all uppercase for lowercase and vice-versa"
   ]
  },
  {
   "cell_type": "code",
   "execution_count": null,
   "metadata": {},
   "outputs": [],
   "source": [
    "#### Clean edges\n",
    "my_string = \"    It was a dark and stormy night...    \"\n",
    "\n",
    "print(\"|\" + my_string.lstrip() + \"|\") # Strip whitespace from left side of string\n",
    "print(\"|\" + my_string.rstrip() + \"|\") # Strip whitespace from right side of string\n",
    "print(\"|\" + my_string.strip() + \"|\") # Strip whitespace from both sides of string"
   ]
  },
  {
   "cell_type": "code",
   "execution_count": null,
   "metadata": {},
   "outputs": [],
   "source": [
    "#### Clean edges\n",
    "my_string = \"    It was a dark and stormy night...    \"\n",
    "\n",
    "print(my_string.lstrip()) # Strip whitespace from left side of string\n",
    "print(my_string.rstrip()) # Strip whitespace from right side of string\n",
    "print(my_string.strip()) # Strip whitespace from both sides of string"
   ]
  },
  {
   "cell_type": "code",
   "execution_count": null,
   "metadata": {},
   "outputs": [],
   "source": [
    "# Clean custom character sets from the edges of string\n",
    "my_string = \"...wowza...\"\n",
    "\n",
    "print(my_string.lstrip(\".w\")) # Strip \"w\" and \".\" from left side of string\n",
    "print(my_string.rstrip(\"a.\")) # Strip \"a\" and \".\" from right side of string"
   ]
  },
  {
   "cell_type": "code",
   "execution_count": null,
   "metadata": {},
   "outputs": [],
   "source": [
    "# Replace all instances of a character for another character\n",
    "my_string = \"anna banana\"\n",
    "\n",
    "print(my_string.replace('a', 'oo'))"
   ]
  },
  {
   "cell_type": "markdown",
   "metadata": {},
   "source": [
    "### Inspect"
   ]
  },
  {
   "cell_type": "code",
   "execution_count": null,
   "metadata": {},
   "outputs": [],
   "source": [
    "# Inspect the general contents of the string\n",
    "my_string = \"garba048\"\n",
    "\n",
    "print(my_string.isalpha()) # Returns True if contets are all alphabet characters\n",
    "print(my_string.isalnum()) # Returns True if contets are all alpha-numeric characters"
   ]
  },
  {
   "cell_type": "code",
   "execution_count": null,
   "metadata": {},
   "outputs": [],
   "source": [
    "# Inspect the general contents of the string\n",
    "my_string = \"   \\n\"\n",
    "\n",
    "print(my_string.isspace()) # Returns True if contents are all whitespace"
   ]
  },
  {
   "cell_type": "code",
   "execution_count": null,
   "metadata": {},
   "outputs": [],
   "source": [
    "# Search for a match, and return the first index where it is found\n",
    "my_string = \"The copiale cipher is an encrypted manuscript...\"\n",
    "\n",
    "print(my_string.index(\"c\")) # Find the index of the first match\n",
    "print(my_string.index(\"cipher\")) # Find the index of the first match"
   ]
  },
  {
   "cell_type": "markdown",
   "metadata": {},
   "source": [
    "### Normalize length"
   ]
  },
  {
   "cell_type": "code",
   "execution_count": null,
   "metadata": {},
   "outputs": [],
   "source": [
    "# Normalize the length of two strings by adding \"padding\"\n",
    "my_long_string = \"getto90\"\n",
    "my_short_string = \"short string\"\n",
    "\n",
    "print(my_long_string.zfill(90))\n",
    "print(my_short_string.zfill(22))"
   ]
  },
  {
   "cell_type": "code",
   "execution_count": null,
   "metadata": {},
   "outputs": [],
   "source": [
    "# While we're here, let's talk about measuring the length of a string.\n",
    "my_long_string = \"loooooooooooong string\"\n",
    "my_short_string = \"short string\"\n",
    "\n",
    "print(len(my_long_string)) # Length of long string\n",
    "print(len(my_short_string)) # Length of short string\n",
    "print(len(my_long_string) - len(my_short_string)) # Difference in length"
   ]
  },
  {
   "cell_type": "code",
   "execution_count": null,
   "metadata": {},
   "outputs": [],
   "source": [
    "# len() returns an integer. To integrate integers\n",
    "# into strings, we can convert them into strings using str().\n",
    "my_long_string = \"loooooooooooong string\"\n",
    "my_short_string = \"short string\"\n",
    "\n",
    "my_long_string_length = len(my_long_string)\n",
    "my_short_string_length = len(my_short_string)\n",
    "\n",
    "print(\"Long string has \" + str(my_long_string_length) + \" characters.\")\n",
    "print(\"Short string has \" + str(my_short_string_length) + \" characters.\")\n",
    "print(\"Long string has \" + str(my_long_string_length - my_short_string_length) + \" more characters.\")"
   ]
  },
  {
   "cell_type": "markdown",
   "metadata": {},
   "source": [
    "## Lists basics"
   ]
  },
  {
   "cell_type": "markdown",
   "metadata": {},
   "source": [
    "<hr>\n",
    "\n",
    "\n",
    "## <span id=\"01\">Definition</span>\n",
    "\n",
    "Lists are <b>collection data types</b> that store array(s) of data \n",
    "\n",
    "- Lists are <b>mutable</b> - can be changed\n",
    "    - usually declare with square brackets [ ]\n",
    "- You can do a lot of things to <b>lists</b> such as \n",
    "    - looping \n",
    "    - iterating\n",
    "    - accessing\n",
    "    - change values of elements\n",
    "    - reordering\n",
    "    - Adding/removing elements"
   ]
  },
  {
   "cell_type": "code",
   "execution_count": null,
   "metadata": {},
   "outputs": [],
   "source": [
    "# How to declare a list\n",
    "li = [1, 3, 4, 6]\n",
    "print(type(li))\n",
    "\n",
    "# Empty list\n",
    "my_list = []\n",
    "print(my_list)\n",
    "\n",
    "# List having integers\n",
    "my_list = [2, 1, 4]\n",
    "print(my_list)\n",
    "\n",
    "# List with mixed datatypes\n",
    "my_list = [1, \"Hello\", 0.2]\n",
    "print(my_list)\n",
    "\n",
    "# Nested Lists\n",
    "my_list = (\"sun\", [8, 4, 6], 2)\n",
    "print(my_list)"
   ]
  },
  {
   "cell_type": "code",
   "execution_count": null,
   "metadata": {},
   "outputs": [],
   "source": [
    "# lists are mutable\n",
    "print(li)\n",
    "li[2] = 11 # this will change the third element's value to 11\n",
    "print(li)"
   ]
  },
  {
   "cell_type": "markdown",
   "metadata": {},
   "source": [
    "<hr>\n",
    "\n",
    "### <span id=\"10\">How to access individual element?</span>\n",
    "\n",
    "### <span id=\"11\">Indexing</span>\n",
    "Let's say you declare a list or tuple, and you need to retrieve the value of specific element:\n",
    "- You use square brackets to call out the <b>index number</b> aka the location of the element within the group\n",
    "- Every element in a list or a tuple has its ordered position\n",
    "- In the programming world, the first element/index <b>starts with 0, not 1!</b>"
   ]
  },
  {
   "cell_type": "code",
   "execution_count": null,
   "metadata": {},
   "outputs": [],
   "source": [
    "print(li)\n",
    "print(li[1],li[2],li[3]) # [1] is actually the second element"
   ]
  },
  {
   "cell_type": "code",
   "execution_count": null,
   "metadata": {},
   "outputs": [],
   "source": [
    "print(li[3])"
   ]
  },
  {
   "cell_type": "markdown",
   "metadata": {},
   "source": [
    "### <span id=\"12\">Negative indexing</span>\n",
    "if you want to get the last item of a list, you can use \"[-num]\""
   ]
  },
  {
   "cell_type": "code",
   "execution_count": null,
   "metadata": {},
   "outputs": [],
   "source": [
    "print(li[3])\n",
    "print(li[-1]) # the last element in the list"
   ]
  },
  {
   "cell_type": "markdown",
   "metadata": {},
   "source": [
    "### <span id=\"13\">Range of indexes</span>\n",
    "if you want a range of elements from a list or tuple"
   ]
  },
  {
   "cell_type": "code",
   "execution_count": null,
   "metadata": {},
   "outputs": [],
   "source": [
    "terms = ['Parsons','Design','and','Technology']\n",
    "#range outputs the same datatype\n",
    "print(terms [1:])\n",
    "print(terms [:-1])\n",
    "print(terms [-1:])"
   ]
  },
  {
   "cell_type": "markdown",
   "metadata": {},
   "source": [
    "### <span id=\"14\">Iterating/looping</span>\n",
    "\n",
    "If we want to go through a list or a tuple element by element, we use a [<b style=\"color: red\">for</b>](https://www.learnpython.org/en/Loops) loop.\n",
    "\n",
    "With the for loop we can execute a set of statements, once for each item in a list or a tuple."
   ]
  },
  {
   "cell_type": "code",
   "execution_count": null,
   "metadata": {},
   "outputs": [],
   "source": [
    "for term in terms: # term is just a placeholder indicating 'each element'\n",
    "    print(term)"
   ]
  },
  {
   "cell_type": "code",
   "execution_count": null,
   "metadata": {},
   "outputs": [],
   "source": [
    "# it can be any placeholder in replacement of 'term'\n",
    "for everyword in terms:\n",
    "    # it will go through every 'everyword' in terms and execute something to that 'everyword'\n",
    "    print(everyword + '!') "
   ]
  },
  {
   "cell_type": "markdown",
   "metadata": {},
   "source": [
    "\n",
    "<hr>\n",
    "\n",
    "### <span id=\"04\">Conversions among lists and strings</span>\n",
    "1. string method: split( )\n",
    "1. string method: join( )"
   ]
  },
  {
   "cell_type": "code",
   "execution_count": null,
   "metadata": {},
   "outputs": [],
   "source": [
    "# string to list\n",
    "sentence = \"Curl up like a dead leaf\"\n",
    "print(sentence)\n",
    "words = sentence.split(' ') # split the string with a 'space' operator\n",
    "print(words)"
   ]
  },
  {
   "cell_type": "code",
   "execution_count": null,
   "metadata": {},
   "outputs": [],
   "source": [
    "sentence = \"Curl up like a dead leaf\"\n",
    "words = sentence.split()\n",
    "print(words)"
   ]
  },
  {
   "cell_type": "code",
   "execution_count": null,
   "metadata": {},
   "outputs": [],
   "source": [
    "# list to string\n",
    "sentence = ' /'.join(words) # join the list elements with a 'space' operator\n",
    "print(li2str)"
   ]
  },
  {
   "cell_type": "code",
   "execution_count": null,
   "metadata": {},
   "outputs": [],
   "source": [
    "sentence = ' '.join(words) # join the list elements with a 'space' operator\n",
    "print(sentence)"
   ]
  },
  {
   "cell_type": "code",
   "execution_count": null,
   "metadata": {},
   "outputs": [],
   "source": [
    "sentence = ''.join(words)\n",
    "print(sentence)"
   ]
  },
  {
   "cell_type": "markdown",
   "metadata": {},
   "source": [
    "\n",
    "<br>\n",
    "\n",
    "<hr>\n",
    "\n",
    "## <span id=\"05\">Modifying elements with lists</span>\n",
    "\n",
    "With lists, there are many things we can do:\n",
    "\n",
    "- Add elements\n",
    "- Remove elements\n",
    "- Insert element at a specific location\n",
    "- Check index number\n",
    "- Extend one list from another list\n",
    "- Sorting\n",
    "- element Count "
   ]
  },
  {
   "cell_type": "markdown",
   "metadata": {},
   "source": [
    "### Add elements\n",
    "<b>append( )</b> method adds the parameter to the end of your list"
   ]
  },
  {
   "cell_type": "code",
   "execution_count": null,
   "metadata": {},
   "outputs": [],
   "source": [
    "names = [\"Emma\",\"Peter\",\"Frank\",\"Sven\"]\n",
    "names.append(3) # append a number\n",
    "names.append(\"Judy\") # append another string\n",
    "print(names)"
   ]
  },
  {
   "cell_type": "markdown",
   "metadata": {},
   "source": [
    "### Remove elements\n",
    "<b>remove( )</b> deletes the element that matches specific value\n",
    "\n",
    "<b>pop( )</b> deletes the element that matches the index position"
   ]
  },
  {
   "cell_type": "code",
   "execution_count": null,
   "metadata": {},
   "outputs": [],
   "source": [
    "print(names)\n",
    "names.remove(3) # remove the element that matches 3\n",
    "print(names)"
   ]
  },
  {
   "cell_type": "code",
   "execution_count": null,
   "metadata": {},
   "outputs": [],
   "source": [
    "print(names)\n",
    "names.pop(0) # remove the first element – 'Emma' from the list\n",
    "print(names)"
   ]
  },
  {
   "cell_type": "markdown",
   "metadata": {},
   "source": [
    "### Insert Elements \n",
    "<b>inserts( )</b> takes two parameters: the index location and element value"
   ]
  },
  {
   "cell_type": "code",
   "execution_count": null,
   "metadata": {},
   "outputs": [],
   "source": [
    "names.insert(1,\"Bob\") # insert string at the second element position\n",
    "print(names)"
   ]
  },
  {
   "cell_type": "code",
   "execution_count": null,
   "metadata": {},
   "outputs": [],
   "source": [
    "# check the index number of specific value\n",
    "names.index(\"Bob\")"
   ]
  },
  {
   "cell_type": "code",
   "execution_count": null,
   "metadata": {},
   "outputs": [],
   "source": [
    "for name in names:\n",
    "    print (name)"
   ]
  },
  {
   "cell_type": "markdown",
   "metadata": {},
   "source": [
    "### Extend lists\n",
    "\n",
    "Appending one list to another"
   ]
  },
  {
   "cell_type": "code",
   "execution_count": null,
   "metadata": {},
   "outputs": [],
   "source": [
    "list1 = [0,0,0,10,1,0]\n",
    "list2 = [213]\n",
    "list2.extend(list1)\n",
    "print(list2)"
   ]
  },
  {
   "cell_type": "code",
   "execution_count": null,
   "metadata": {},
   "outputs": [],
   "source": [
    "# appended list to a list will be added as nested \n",
    "\n",
    "list3 = [1,2,3]\n",
    "list4 = [4,5,6]\n",
    "\n",
    "list3.append(list4)\n",
    "print(list3)"
   ]
  },
  {
   "cell_type": "markdown",
   "metadata": {},
   "source": [
    "<br>\n",
    "\n",
    "### Sorting\n",
    "order the list, reverse the order of the list\n",
    "\n",
    "<b>sort( )</b> method sorts the list ascending by default.\n",
    "\n",
    "<b>reverse( )</b> reverse the order of the list."
   ]
  },
  {
   "cell_type": "code",
   "execution_count": null,
   "metadata": {},
   "outputs": [],
   "source": [
    "numbers = [9, 0, 3, 2]\n",
    "numbers.sort()\n",
    "print(numbers)"
   ]
  },
  {
   "cell_type": "code",
   "execution_count": null,
   "metadata": {},
   "outputs": [],
   "source": [
    "fruits = [\"banana\", \"apple\", \"kiwi\"]\n",
    "fruits.sort()\n",
    "print(fruits)"
   ]
  },
  {
   "cell_type": "code",
   "execution_count": null,
   "metadata": {},
   "outputs": [],
   "source": [
    "numbers.reverse()\n",
    "print(numbers)"
   ]
  },
  {
   "cell_type": "code",
   "execution_count": null,
   "metadata": {},
   "outputs": [],
   "source": [
    "fruits.reverse()\n",
    "print(fruits)"
   ]
  },
  {
   "cell_type": "markdown",
   "metadata": {},
   "source": [
    "### Count\n",
    "Lists have built-in function that allows you count the number of times one element appear in your list"
   ]
  },
  {
   "cell_type": "code",
   "execution_count": null,
   "metadata": {},
   "outputs": [],
   "source": [
    "words = ['flower','bee','bee','flower','leaf','bee']\n",
    "words.count('bee')"
   ]
  },
  {
   "cell_type": "markdown",
   "metadata": {},
   "source": [
    "## Dictionaries basics\n",
    "1. [Definition](#section_1)\n",
    "2. [Creating Dictionaries](#section_2)\n",
    "3. [Accessing, Updating/Adding, and Removing Items](#section_3)\n",
    "4. [Membership Testing](#section_4)\n",
    "5. [Iterating](#section_5)\n",
    "6. [Resources](#section_6)"
   ]
  },
  {
   "cell_type": "markdown",
   "metadata": {},
   "source": [
    "<a id='section_1'></a>\n",
    "### __Definition__\n",
    "\n",
    "Python dictionaries are collection data types that store unordered key value pairs\n",
    "\n",
    "* __Dictionaries__:\n",
    "    * are *__mutable__*\n",
    "    * can be declared with *__curly brackets {}__* or with the built-in *__dict()__* method\n",
    "* __Keys__:\n",
    "    * must be of *__immutable type__* such as, tuples, strings, and numbers\n",
    "* __Values__:\n",
    "    * can be of *__any type__* such as, tuples, strings, numbers, lists, and other dictionaries\n",
    "\n",
    "* __In the lecture we will go over following methods__:\n",
    "    * accessing elements\n",
    "    * adding, updating, and removing elements\n",
    "    * iterating through elements"
   ]
  },
  {
   "cell_type": "markdown",
   "metadata": {},
   "source": [
    "<a id='section_2'></a>\n",
    "### Creating Dictionaries"
   ]
  },
  {
   "cell_type": "code",
   "execution_count": null,
   "metadata": {},
   "outputs": [],
   "source": [
    "# declaring empty dictionaries with both curly brackets & dict()\n",
    "dict_1 = {}\n",
    "dict_2 = dict()\n",
    "print('type - ', type(dict_1), ': ', dict_1)\n",
    "print('type - ', type(dict_2), ': ', dict_2)"
   ]
  },
  {
   "cell_type": "code",
   "execution_count": null,
   "metadata": {},
   "outputs": [],
   "source": [
    "# declaring dictionary with key: value pairs using curly brackets\n",
    "my_dict = {1: 'apple', 2: 'lemons'}\n",
    "print(my_dict)"
   ]
  },
  {
   "cell_type": "code",
   "execution_count": null,
   "metadata": {},
   "outputs": [],
   "source": [
    "# two ways of declaring dictionary with key: value pairs using dict()\n",
    "# 1: converting a list of tuples\n",
    "# the first element of the tuple becomes the key and the second becomes the value\n",
    "my_dict = dict([(\"monstera\", 1), (\"succulent\", 2)])\n",
    "print(my_dict)\n",
    "\n",
    "# 2: through keyword arguments\n",
    "my_dict = dict(sven=1, raspberry_pi=2)\n",
    "print(my_dict)"
   ]
  },
  {
   "cell_type": "markdown",
   "metadata": {},
   "source": [
    "<a id='section_3'></a>\n",
    "### __Accessing, Updating, Adding, and Removing Items__"
   ]
  },
  {
   "cell_type": "markdown",
   "metadata": {},
   "source": [
    "### Accessing items\n",
    "Accessing items in dictionaries is done through the __square bracket notation__ or __get()__"
   ]
  },
  {
   "cell_type": "code",
   "execution_count": null,
   "metadata": {},
   "outputs": [],
   "source": [
    "favorites = {'fruit': 'peach', \n",
    "             'spread': 'nutella', \n",
    "             'colors': ['white', 'black', 'mint'], \n",
    "             'number': 2, \n",
    "             'places': {'New York': 'USA', 'Seoul': 'South Korea'}\n",
    "            }"
   ]
  },
  {
   "cell_type": "code",
   "execution_count": null,
   "metadata": {},
   "outputs": [],
   "source": [
    "# access items through square bracket notation\n",
    "print(favorites['fruit'])\n",
    "print(favorites['spread'])\n",
    "print(favorites['colors'])\n",
    "print(favorites['number'])\n",
    "print(favorites['places'])"
   ]
  },
  {
   "cell_type": "code",
   "execution_count": null,
   "metadata": {},
   "outputs": [],
   "source": [
    "# access items through get()\n",
    "# get takes two arguments: the key and default\n",
    "# if the key doesn't exist, it will return the default\n",
    "# if you don't define the default, it will return None\n",
    "\n",
    "\n",
    "# just key\n",
    "print(favorites.get('fruit')) \n",
    "\n",
    "# if the key doesn't exist, it will return the default\n",
    "print(favorites.get('sven', 'doesn\\'t exist!')) \n",
    "\n",
    "# if the key doesn't exist, it will return the default\n",
    "print(favorites.get('name', 'name doesn\\'t exist ')) \n",
    "\n",
    "# if you don't define the default, it will return None\n",
    "print(favorites.get('food')) "
   ]
  },
  {
   "cell_type": "code",
   "execution_count": null,
   "metadata": {},
   "outputs": [],
   "source": [
    "# access nested values(lists, dictionaries) through double square bracket notation\n",
    "print(favorites['colors'][2])# use indices for lists\n",
    "print(favorites['places']['Seoul'])# use keys for dictionaries"
   ]
  },
  {
   "cell_type": "code",
   "execution_count": null,
   "metadata": {},
   "outputs": [],
   "source": [
    "# you can iterate through the list/dictionary values like so:\n",
    "for color in favorites['colors']:\n",
    "    print(color) # print each element of the list\n",
    "print('--------')\n",
    "\n",
    "for place in favorites['places']:\n",
    "    print(place, '-->', favorites['places'][place]) # print key & value of the dictionary"
   ]
  },
  {
   "cell_type": "markdown",
   "metadata": {},
   "source": [
    "### Update / Add items\n",
    "* Using __update()__:\n",
    "    * you can pass in *__another dictionary__* ex) favorites.update({'instructor': 'Sven'})\n",
    "    * or you can pass in *__keyword arguments__* ex) favorites.update(instructor='Sven')\n",
    "    * if you add a _new key that is currently not in the dictionary_, the update method will add the new pair/s to the dictionary\n",
    "    * if you pass in an _existing key but with a different value_, the update method will reassign the value of that key\n",
    "    * update() can take in as many key/value pairs as you desire\n",
    "* Using the __square bracket notation []__:\n",
    "    * unlike update(), square bracket notation can update/add one key/value pair at a time\n",
    "    * you can use the square bracket notation to access the value and ressign a new value to that key\n",
    "    * you can also use it to add a new key/value pair\n",
    "\n",
    "\n",
    "__Remember: you cannot update keys!__ unlike values, you can't access keys to update them on the spot. if there is a key you need to change, you will need to remove that key and add a new one."
   ]
  },
  {
   "cell_type": "code",
   "execution_count": null,
   "metadata": {},
   "outputs": [],
   "source": [
    "# add new key/value pair using the update method\n",
    "favorites.update({'food': 'chicken tenders'}) \n",
    "print(favorites)\n",
    "print('--------')\n",
    "\n",
    "# update a value using the update method\n",
    "favorites.update(food='buttered toast')\n",
    "print(favorites)"
   ]
  },
  {
   "cell_type": "code",
   "execution_count": null,
   "metadata": {},
   "outputs": [],
   "source": [
    "favorites.update(food='butter')\n",
    "print(favorites)"
   ]
  },
  {
   "cell_type": "code",
   "execution_count": null,
   "metadata": {},
   "outputs": [],
   "source": [
    "# add new key/value pair using the square bracket notation\n",
    "favorites['book'] = 'The Picture of Dorian Gray'\n",
    "print(favorites)\n",
    "print('--------')\n",
    "\n",
    "# update a value using the square bracket notation\n",
    "favorites['number'] = (77, 2)\n",
    "print(favorites)"
   ]
  },
  {
   "cell_type": "markdown",
   "metadata": {},
   "source": [
    "### Removing items\n",
    "* You can remove key: value pairs or dictionaries with built-in dictionary methods:\n",
    "    * __pop()__: removes a particular item and returns the value\n",
    "    * __popitem()__: removes an arbitrary item and returns (key,value) in a tuple\n",
    "    * __clear()__: removes all items in the dictionary\n",
    "    * __del__: used to remove an item or to delete an entire dictionary"
   ]
  },
  {
   "cell_type": "code",
   "execution_count": null,
   "metadata": {},
   "outputs": [],
   "source": [
    "# continuing with the favorites dictionary defined at the top\n",
    "# to remove a specific key/value pair, use pop()\n",
    "# pop() will also return the value of the pair you are removing\n",
    "# you can store that value in a variable if needed\n",
    "fruit = favorites.pop('fruit')\n",
    "print(fruit)\n",
    "print('---------')\n",
    "\n",
    "# now the key/value 'fruit': 'peach' is removed from the dictionary\n",
    "print(favorites)"
   ]
  },
  {
   "cell_type": "code",
   "execution_count": null,
   "metadata": {},
   "outputs": [],
   "source": [
    "# you can also use the keyword del to remove a specific pair\n",
    "# del will not return the value of the pair you are removing\n",
    "\n",
    "del favorites['number']\n",
    "\n",
    "# check to see that the pair is removed\n",
    "print(favorites)"
   ]
  },
  {
   "cell_type": "code",
   "execution_count": null,
   "metadata": {},
   "outputs": [],
   "source": [
    "# to remove an arbitrary key/value pair, use popitem()\n",
    "# it returns the key and value of the removed pair in a tuple\n",
    "# you can also store this value in a variable if needed\n",
    "randomdelete = favorites.popitem()\n",
    "print(randomdelete)\n",
    "print('---------')\n",
    "\n",
    "# check to see that the pair is removed\n",
    "print(favorites)"
   ]
  },
  {
   "cell_type": "code",
   "execution_count": null,
   "metadata": {},
   "outputs": [],
   "source": [
    "# to clear the entire items in the dictionary, use clear()\n",
    "favorites.clear()\n",
    "# should print an empty dictionary\n",
    "print(favorites)"
   ]
  },
  {
   "cell_type": "code",
   "execution_count": null,
   "metadata": {},
   "outputs": [],
   "source": [
    "favorites = {1 : 'kot' }\n",
    "print (favorites)"
   ]
  },
  {
   "cell_type": "code",
   "execution_count": null,
   "metadata": {},
   "outputs": [],
   "source": [
    "# to delete the dictionary, use the keyword del\n",
    "del favorites\n",
    "# this print should return a NameError since favorites has been deleted!\n",
    "print(favorites)"
   ]
  },
  {
   "cell_type": "markdown",
   "metadata": {},
   "source": [
    "<a id='section_4'></a>\n",
    "### __Membership Testing__\n",
    "\n",
    "* You can test if a key is in a dictionary or not using the keywords __in__ or __not in__ \n",
    "* These keywords will return boolean values\n",
    "* The membership test is *only for the keys* and not for the values"
   ]
  },
  {
   "cell_type": "code",
   "execution_count": 1,
   "metadata": {},
   "outputs": [],
   "source": [
    "# new dictionary\n",
    "fruit_inventory = {\n",
    "    'banana': 3, \n",
    "    'apple': 5, \n",
    "    'watermelon': 1, \n",
    "    'mangosteen': 4, \n",
    "    'orange': 5, \n",
    "    'peach': 6,\n",
    "    'mango': 1, \n",
    "    }"
   ]
  },
  {
   "cell_type": "code",
   "execution_count": null,
   "metadata": {},
   "outputs": [],
   "source": [
    "print('banana' in fruit_inventory)\n",
    "print('Apple' in fruit_inventory) # capitalization matters!\n",
    "print('watermelon' not in fruit_inventory)\n",
    "print('cherries' not in fruit_inventory)"
   ]
  },
  {
   "cell_type": "markdown",
   "metadata": {},
   "source": [
    "<a id='section_5'></a>\n",
    "### __Iterating__\n",
    "* you can iterate through dictionaries like lists"
   ]
  },
  {
   "cell_type": "code",
   "execution_count": null,
   "metadata": {},
   "outputs": [],
   "source": [
    "# iterating through the dictionary above using a for loop\n",
    "# this will only loop through the keys in the dictionary\n",
    "for fruit in fruit_inventory:\n",
    "    print(fruit)"
   ]
  },
  {
   "cell_type": "code",
   "execution_count": null,
   "metadata": {},
   "outputs": [],
   "source": [
    "# use the square bracket notation to call the values in the loop:\n",
    "for fruit in fruit_inventory:\n",
    "    print(fruit, '-->', fruit_inventory[fruit])"
   ]
  },
  {
   "cell_type": "code",
   "execution_count": null,
   "metadata": {},
   "outputs": [],
   "source": [
    "for fruit in fruit_inventory:\n",
    "    print(fruit_inventory[fruit])"
   ]
  },
  {
   "cell_type": "markdown",
   "metadata": {},
   "source": [
    "* because dictionary items have two parts to them, key & value, it's useful to know the following built-in dictionary methods that will help us unpack our dictionary items\n",
    "    * __items()__: returns a new view of the dictionary’s items in a list of tuples\n",
    "    * __keys()__: returns a new view of the dictionary’s keys in a list\n",
    "    * __values()__: returns a new view of the dictionary’s values in a list\n",
    "* _these methods are not only used for iterating. you can use them whenever you need to!_"
   ]
  },
  {
   "cell_type": "code",
   "execution_count": null,
   "metadata": {},
   "outputs": [],
   "source": [
    "# get key/value pairs with items()\n",
    "print(fruit_inventory.items())\n",
    "print('--------')\n",
    "\n",
    "# get keys with keys()\n",
    "print(fruit_inventory.keys())\n",
    "print('--------')\n",
    "\n",
    "# get values with values()\n",
    "print(fruit_inventory.values())"
   ]
  },
  {
   "cell_type": "markdown",
   "metadata": {},
   "source": [
    "* we can now use these methods to iterate through the dictionary!"
   ]
  },
  {
   "cell_type": "code",
   "execution_count": null,
   "metadata": {},
   "outputs": [],
   "source": [
    "# iterating with items()\n",
    "for fruit in fruit_inventory.items():\n",
    "    print(fruit)"
   ]
  },
  {
   "cell_type": "code",
   "execution_count": null,
   "metadata": {},
   "outputs": [],
   "source": [
    "# you can unpack the tuples by putting two variables instead of one\n",
    "for fruit, number in fruit_inventory.items():\n",
    "    print(fruit, ': ', number)"
   ]
  },
  {
   "cell_type": "code",
   "execution_count": null,
   "metadata": {},
   "outputs": [],
   "source": [
    "# iterating through keys using keys()\n",
    "for fruit in fruit_inventory.keys():\n",
    "    print(fruit)"
   ]
  },
  {
   "cell_type": "code",
   "execution_count": null,
   "metadata": {},
   "outputs": [],
   "source": [
    "# you can use the square bracket notation to call the values like before\n",
    "for fruit in fruit_inventory.keys():\n",
    "    print(fruit, '-->', fruit_inventory[fruit])"
   ]
  },
  {
   "cell_type": "code",
   "execution_count": null,
   "metadata": {},
   "outputs": [],
   "source": [
    "# iterating through values using values()\n",
    "for number in fruit_inventory.values():\n",
    "    print(number)"
   ]
  },
  {
   "cell_type": "markdown",
   "metadata": {},
   "source": [
    "### Short Intro to Data Viz using Dictionaries"
   ]
  },
  {
   "cell_type": "code",
   "execution_count": 2,
   "metadata": {},
   "outputs": [
    {
     "name": "stdout",
     "output_type": "stream",
     "text": [
      "{'banana': 3, 'apple': 5, 'watermelon': 1, 'mangosteen': 4, 'orange': 5, 'peach': 6, 'mango': 1}\n"
     ]
    }
   ],
   "source": [
    "print(fruit_inventory)"
   ]
  },
  {
   "cell_type": "code",
   "execution_count": 3,
   "metadata": {},
   "outputs": [],
   "source": [
    "# https://matplotlib.org/\n",
    "# Matplotlib is a comprehensive library \n",
    "# for creating static, animated, and interactive visualizations in Python.\n",
    "import matplotlib.pyplot as plt"
   ]
  },
  {
   "cell_type": "code",
   "execution_count": 4,
   "metadata": {},
   "outputs": [
    {
     "data": {
      "image/png": "[encoded data removed]",
      "text/plain": [
       "<Figure size 432x288 with 1 Axes>"
      ]
     },
     "metadata": {
      "needs_background": "light"
     },
     "output_type": "display_data"
    }
   ],
   "source": [
    "plt.bar(range(len(fruit_inventory)), list(fruit_inventory.values()), align='center', color=['#236E96', '#15B2D3', '#FFD700', '#F3872F', '#FF598F'])\n",
    "plt.xticks(range(len(fruit_inventory)), list(fruit_inventory.keys()), rotation = 45)\n",
    "plt.show()"
   ]
  },
  {
   "cell_type": "code",
   "execution_count": 5,
   "metadata": {},
   "outputs": [
    {
     "data": {
      "image/png": "[encoded data removed]",
      "text/plain": [
       "<Figure size 432x288 with 1 Axes>"
      ]
     },
     "metadata": {
      "needs_background": "light"
     },
     "output_type": "display_data"
    }
   ],
   "source": [
    "plt.scatter(range(len(fruit_inventory)), list(fruit_inventory.values()), color=['#236E96', '#15B2D3', '#e2f4c7', '#eae374', '#FFD700', '#F3872F', '#FF598F'])\n",
    "plt.xticks(range(len(fruit_inventory)), list(fruit_inventory.keys()), rotation = 45)\n",
    "plt.show()"
   ]
  },
  {
   "cell_type": "code",
   "execution_count": 6,
   "metadata": {},
   "outputs": [
    {
     "data": {
      "image/png": "[encoded data removed]",
      "text/plain": [
       "<Figure size 432x288 with 1 Axes>"
      ]
     },
     "metadata": {},
     "output_type": "display_data"
    }
   ],
   "source": [
    "explode = (0, 0.1, 0, 0, 0, 0, 0)  # only \"explode\" the 2nd slice (i.e. 'apple')\n",
    "plt.pie(fruit_inventory.values(), labels=fruit_inventory.keys(), autopct='%1.1f%%', explode=explode,\n",
    "        shadow=True, startangle=90)\n",
    "plt.show()"
   ]
  }
 ],
 "metadata": {
  "kernelspec": {
   "display_name": "Python 3",
   "language": "python",
   "name": "python3"
  },
  "language_info": {
   "codemirror_mode": {
    "name": "ipython",
    "version": 3
   },
   "file_extension": ".py",
   "mimetype": "text/x-python",
   "name": "python",
   "nbconvert_exporter": "python",
   "pygments_lexer": "ipython3",
   "version": "3.8.3"
  }
 },
 "nbformat": 4,
 "nbformat_minor": 4
}
