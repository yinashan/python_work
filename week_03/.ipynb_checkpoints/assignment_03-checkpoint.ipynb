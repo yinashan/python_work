{
 "cells": [
  {
   "cell_type": "markdown",
   "metadata": {},
   "source": [
    "### Exercise 1: \n",
    "Study the following code and create your own mad-libs generator (please don't copy the example)"
   ]
  },
  {
   "cell_type": "markdown",
   "metadata": {},
   "source": [
    "### A Mad-Libs invitation generator\n",
    "\n",
    "Mad-Libs is a phrasal template word game where one player prompts others for a list of words to <b>substitute</b> for blanks in a story.\n",
    "\n",
    "We are going to create an event `invitation function` that would allow us to automate creating copies of event invitations.\n",
    "\n",
    "<span style=\"color:tomato\">The invitation template</span>:\n",
    "```\n",
    "    Hey, _guestname_!\n",
    "    You are invited to a _type_of_event_! Join us on _date_ at _location_!\n",
    "    Bring _items_.\n",
    "    \n",
    "    Best,\n",
    "    Party bear\n",
    "    \n",
    "```\n",
    "\n",
    "<span style=\"color:tomato\">An example output</span>:\n",
    "```\n",
    "    Hey, Sven!\n",
    "    You are invited to a gathering! Join us on dn2 yluJ at erauqS noinU!\n",
    "    Bring beverages, games, signs, masks, and facecovers.\n",
    "\n",
    "    Best,\n",
    "    Party bear\n",
    "```"
   ]
  },
  {
   "cell_type": "code",
   "execution_count": null,
   "metadata": {},
   "outputs": [],
   "source": [
    "# EXAMPLE GENERATOR\n",
    "\n",
    "import random\n",
    "def event(namelist, event_type, date, loc, items):\n",
    "    \"\"\"\n",
    "        This function takes event information input, parse them and turn them into\n",
    "        a formatted invitation that's ready to be duplicate and populate.\n",
    "    \"\"\"\n",
    "    # outputs a random item from the list\n",
    "    def getRand(list):\n",
    "        return random.choice(list)\n",
    "    \n",
    "    # formats all outputs form a list as 'a, b, and c'\n",
    "    def getAll(li):\n",
    "        return ', '.join(li[:-1]) + \", and %s\" %(li[-1])\n",
    "    \n",
    "  \n",
    "    # variables needed:\n",
    "    guestlist = namelist\n",
    "    type_of_event = event_type\n",
    "    date = date[::-1]\n",
    "    location = loc[::-1] # a simple reversed encrption\n",
    "    items = items\n",
    "    invite_template = '''\n",
    "            Hey %s:\n",
    "            You are invited to a %s! Join us on %s at %s!\n",
    "            Bring %s.\n",
    "\n",
    "            Best,\n",
    "            Party bear\n",
    "\n",
    "            ---\n",
    "        ''' \n",
    "    \n",
    "    # loop through all guest tuples in the guestlist\n",
    "    # populate our invitations\n",
    "    for guests in guestlist:\n",
    "        print(invite_template % (guests,\n",
    "                                 type_of_event,\n",
    "                                 date,\n",
    "                                 location,\n",
    "                                 getAll(items)# try getRand()\n",
    "                                ))"
   ]
  },
  {
   "cell_type": "code",
   "execution_count": null,
   "metadata": {},
   "outputs": [],
   "source": [
    "guests = (\"Bob\",\"Mary & Friends\",\"Lan\",\"Anna\",\"Sven and friends\",\"Jason\")\n",
    "items = ['beverages','games','signs',\"masks\",\"facecovers\"]\n",
    "\n",
    "# call the generator function to populate invitations:\n",
    "event(guests, \"gathering\", \"July 2nd\", \"Union Square\", items)"
   ]
  },
  {
   "cell_type": "code",
   "execution_count": 9,
   "metadata": {},
   "outputs": [],
   "source": [
    "# Exercise 1 Code Here:\n",
    "# An assignment distribution function for everyone in the class\n",
    "\n",
    "# Hi _name_ \n",
    "# Before next class on _date_ please visit _location_ and take a photo of the first _items_ you see.\n",
    "# Best, Professor\n",
    "\n",
    "\n",
    "import random\n",
    "def assignment(namelist, date, loc, items):\n",
    "    \"\"\"\n",
    "        This function takes information input and turns them into formatted direct messages \n",
    "        to each participant of a group\n",
    "    \"\"\"\n",
    "    def getRand(list):\n",
    "        return random.choice(list)\n",
    "    \n",
    "    def getAll(li):\n",
    "        return ', '.join(li[:-1]) + \", and %s\" %(li[-1])\n",
    "    \n",
    "    roster = namelist\n",
    "    date = date\n",
    "    location = loc\n",
    "    items = items\n",
    "    assignment_template = '''\n",
    "    Hey %s:\n",
    "    Before next class on %s please visit %s and take a photo of the first %s you see.\n",
    "    \n",
    "    Best, Professor\n",
    "    \n",
    "    ------\n",
    "    '''\n",
    "    \n",
    "    for name in roster:\n",
    "        print(assignment_template % (name,\n",
    "                                     date,\n",
    "                                     location,\n",
    "                                     getRand(items)\n",
    "                                    ))"
   ]
  },
  {
   "cell_type": "code",
   "execution_count": 10,
   "metadata": {},
   "outputs": [
    {
     "name": "stdout",
     "output_type": "stream",
     "text": [
      "\n",
      "    Hey John:\n",
      "    Before next class on November 18 please visit a park near you and take a photo of the first toy you see.\n",
      "    \n",
      "    Best, Professor\n",
      "    \n",
      "    ------\n",
      "    \n",
      "\n",
      "    Hey Yaakov:\n",
      "    Before next class on November 18 please visit a park near you and take a photo of the first book you see.\n",
      "    \n",
      "    Best, Professor\n",
      "    \n",
      "    ------\n",
      "    \n",
      "\n",
      "    Hey Tunabird:\n",
      "    Before next class on November 18 please visit a park near you and take a photo of the first book you see.\n",
      "    \n",
      "    Best, Professor\n",
      "    \n",
      "    ------\n",
      "    \n",
      "\n",
      "    Hey Kaylee:\n",
      "    Before next class on November 18 please visit a park near you and take a photo of the first car you see.\n",
      "    \n",
      "    Best, Professor\n",
      "    \n",
      "    ------\n",
      "    \n",
      "\n",
      "    Hey Jason:\n",
      "    Before next class on November 18 please visit a park near you and take a photo of the first book you see.\n",
      "    \n",
      "    Best, Professor\n",
      "    \n",
      "    ------\n",
      "    \n"
     ]
    }
   ],
   "source": [
    "roster = [\"John\", \"Yaakov\", \"Tunabird\", \"Kaylee\", \"Jason\"]\n",
    "items = ['snack','toy','car','book']\n",
    "\n",
    "assignment(roster, \"November 18\", \"a park near you\", items) "
   ]
  },
  {
   "cell_type": "markdown",
   "metadata": {},
   "source": [
    "### Exercise 2: \n",
    "\n",
    "### What is a palindrome?\n",
    "A palindrome is a word or phrase that is spelled the same forwards as backwards, like:\n",
    "\n",
    "```\n",
    "wow\n",
    "Anna\n",
    "race car\n",
    "Was it a cat I saw?\n",
    "```\n",
    "\n",
    "Create a function that checks whether or not a given phrase is a palindrome. Here's the plan:\n",
    "* Our function will be called `isPalindrome()`.\n",
    "* It will accept one **argument** called `txt`, which is a string.\n",
    "* It will print True if `txt` is a palindrome or `False` if `txt`\n",
    "  is not a palindrome.\n",
    "\n",
    "### Test your function along the way\n",
    "We will use the following test cases to guide us:\n",
    "\n",
    "The following should all return `True`:\n",
    "```\n",
    "isPalindrome('wow')\n",
    "isPalindrome('12a3a21')\n",
    "isPalindrome('Anna')\n",
    "isPalindrome('race car')\n",
    "isPalindrome('Was it a cat I saw?')\n",
    "```\n",
    "\n",
    "The following should all return `False`:\n",
    "```\n",
    "isPalindrome('wowza')\n",
    "isPalindrome('123a21')\n",
    "isPalindrome('<3 mom <3')\n",
    "```\n",
    "\n",
    "### Things to Consider:\n",
    " - Make everything lowercase.\n",
    " - Replace all spaces with an empty string\n",
    " - Replace all spaces with an empty string\n",
    " - How would we spell a word backwards or forwards?"
   ]
  },
  {
   "cell_type": "code",
   "execution_count": 11,
   "metadata": {},
   "outputs": [],
   "source": [
    "# Exercise 2 Code Here:\n",
    "\n",
    "# list = {\"wow\", \"Anna\", \"race car\", \"Was it a cat I saw?\"}\n",
    "\n",
    "def isPalindrome(txt):\n",
    "    \n",
    "    txt = txt.lower()\n",
    "    print('lowercase: ' + txt)\n",
    "    \n",
    "    txt = txt.replace(' ', '')\n",
    "    print('no spaces: ' + txt)\n",
    "    \n",
    "    txt = txt.replace('?', '')\n",
    "    print('no question mark: ' + txt)\n",
    "    \n",
    "    forwards_spelling = txt\n",
    "    backwards_spelling = txt[::-1]\n",
    "    \n",
    "    if forwards_spelling == backwards_spelling:\n",
    "        print('this is a palindrome,true!')\n",
    "    else:\n",
    "        print('this is not a palindrome, false!')\n",
    "        \n",
    "    print ('------')"
   ]
  },
  {
   "cell_type": "code",
   "execution_count": 12,
   "metadata": {},
   "outputs": [
    {
     "name": "stdout",
     "output_type": "stream",
     "text": [
      "lowercase: wow\n",
      "no spaces: wow\n",
      "no question mark: wow\n",
      "this is a palindrome,true!\n",
      "------\n",
      "lowercase: 12a3a21\n",
      "no spaces: 12a3a21\n",
      "no question mark: 12a3a21\n",
      "this is a palindrome,true!\n",
      "------\n",
      "lowercase: anna\n",
      "no spaces: anna\n",
      "no question mark: anna\n",
      "this is a palindrome,true!\n",
      "------\n",
      "lowercase: race car\n",
      "no spaces: racecar\n",
      "no question mark: racecar\n",
      "this is a palindrome,true!\n",
      "------\n",
      "lowercase: was it a cat i saw?\n",
      "no spaces: wasitacatisaw?\n",
      "no question mark: wasitacatisaw\n",
      "this is a palindrome,true!\n",
      "------\n",
      "lowercase: wowza\n",
      "no spaces: wowza\n",
      "no question mark: wowza\n",
      "this is not a palindrome, false!\n",
      "------\n",
      "lowercase: 123a21\n",
      "no spaces: 123a21\n",
      "no question mark: 123a21\n",
      "this is not a palindrome, false!\n",
      "------\n",
      "lowercase: <3 mom <3\n",
      "no spaces: <3mom<3\n",
      "no question mark: <3mom<3\n",
      "this is not a palindrome, false!\n",
      "------\n"
     ]
    }
   ],
   "source": [
    "isPalindrome('wow')\n",
    "isPalindrome('12a3a21')\n",
    "isPalindrome('Anna')\n",
    "isPalindrome('race car')\n",
    "isPalindrome('Was it a cat I saw?')\n",
    "isPalindrome('wowza')\n",
    "isPalindrome('123a21')\n",
    "isPalindrome('<3 mom <3')"
   ]
  },
  {
   "cell_type": "markdown",
   "metadata": {},
   "source": [
    "### Exercise 3: \n",
    "Create a dataset of your own using using a dictionary and make a simple visualization with it. Branch out and see what types of graphs you could use here: https://matplotlib.org/ . Don't be shy to Google things you don't know!!!"
   ]
  },
  {
   "cell_type": "code",
   "execution_count": 13,
   "metadata": {},
   "outputs": [],
   "source": [
    "# Exercise 3 Code Here:\n",
    "\n",
    "charcuterie = {\n",
    "    'salami': 50,\n",
    "    'ham': 30,\n",
    "    'grapes': 60,\n",
    "    'brie': 75,\n",
    "    'gouda': 30,\n",
    "    'crackers': 110,\n",
    "    'almonds': 34\n",
    "    }"
   ]
  },
  {
   "cell_type": "code",
   "execution_count": 14,
   "metadata": {},
   "outputs": [],
   "source": [
    "import matplotlib\n",
    "import matplotlib.pyplot as plt"
   ]
  },
  {
   "cell_type": "code",
   "execution_count": 15,
   "metadata": {},
   "outputs": [
    {
     "data": {
      "image/png": "[encoded data removed]",
      "text/plain": [
       "<Figure size 432x288 with 1 Axes>"
      ]
     },
     "metadata": {
      "needs_background": "light"
     },
     "output_type": "display_data"
    }
   ],
   "source": [
    "plt.bar(range(len(charcuterie)), list(charcuterie.values()), align='center', color=['#236E96', '#15B2D3', '#FFD700', '#F3872F', '#FF598F'])\n",
    "plt.xticks(range(len(charcuterie)), list(charcuterie.keys()), rotation = 45)\n",
    "plt.show()"
   ]
  },
  {
   "cell_type": "code",
   "execution_count": 16,
   "metadata": {},
   "outputs": [
    {
     "data": {
      "image/png": "[encoded data removed]",
      "text/plain": [
       "<Figure size 432x288 with 1 Axes>"
      ]
     },
     "metadata": {},
     "output_type": "display_data"
    }
   ],
   "source": [
    "# explode = (0, 0, 0, 0, 0, 0, 0)  # no 'explosion'\n",
    "plt.pie(charcuterie.values(), labels=charcuterie.keys(), autopct='%1.1f%%',\n",
    "        shadow=True, startangle=90)\n",
    "plt.show()"
   ]
  },
  {
   "cell_type": "code",
   "execution_count": 18,
   "metadata": {},
   "outputs": [
    {
     "data": {
      "image/png": "[encoded data removed]",
      "text/plain": [
       "<Figure size 432x288 with 1 Axes>"
      ]
     },
     "metadata": {},
     "output_type": "display_data"
    }
   ],
   "source": [
    "plt.pie(charcuterie.values(), labels=charcuterie.keys(), autopct='%1.1f%%',\n",
    "        shadow=True, startangle=90)\n",
    "plt.axis('equal')  # Equal aspect ratio ensures that pie is drawn as a circle.\n",
    "\n",
    "plt.suptitle(\"Charcuterie\")\n",
    "\n",
    "plt.show()"
   ]
  },
  {
   "cell_type": "code",
   "execution_count": 19,
   "metadata": {},
   "outputs": [
    {
     "data": {
      "text/plain": [
       "Text(0.5, 0.98, 'CHARCUTERIE!!!')"
      ]
     },
     "execution_count": 19,
     "metadata": {},
     "output_type": "execute_result"
    },
    {
     "data": {
      "image/png": "[encoded data removed]",
      "text/plain": [
       "<Figure size 1440x360 with 3 Axes>"
      ]
     },
     "metadata": {
      "needs_background": "light"
     },
     "output_type": "display_data"
    }
   ],
   "source": [
    "import matplotlib.pyplot as plt\n",
    "\n",
    "data = charcuterie\n",
    "names = list(charcuterie.keys())\n",
    "values = list(charcuterie.values())\n",
    "\n",
    "fig, axs = plt.subplots(1, 3, figsize=(20, 5), sharey=True)\n",
    "axs[0].bar(names, values)\n",
    "axs[1].scatter(names, values)\n",
    "axs[2].plot(names, values)\n",
    "fig.suptitle('CHARCUTERIE!!!')"
   ]
  },
  {
   "cell_type": "code",
   "execution_count": null,
   "metadata": {},
   "outputs": [],
   "source": []
  }
 ],
 "metadata": {
  "kernelspec": {
   "display_name": "Python 3",
   "language": "python",
   "name": "python3"
  },
  "language_info": {
   "codemirror_mode": {
    "name": "ipython",
    "version": 3
   },
   "file_extension": ".py",
   "mimetype": "text/x-python",
   "name": "python",
   "nbconvert_exporter": "python",
   "pygments_lexer": "ipython3",
   "version": "3.8.3"
  }
 },
 "nbformat": 4,
 "nbformat_minor": 4
}
